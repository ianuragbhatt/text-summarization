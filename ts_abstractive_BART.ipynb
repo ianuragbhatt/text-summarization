{
  "cells": [
    {
      "cell_type": "code",
      "execution_count": 2,
      "metadata": {
        "colab": {
          "base_uri": "https://localhost:8080/"
        },
        "id": "n-FJI-qMKmV-",
        "outputId": "63195b23-61f8-4cf7-a686-5d0bb6b057e0"
      },
      "outputs": [
        {
          "output_type": "stream",
          "name": "stdout",
          "text": [
            "\u001b[2K     \u001b[90m━━━━━━━━━━━━━━━━━━━━━━━━━━━━━━━━━━━━━━━━\u001b[0m \u001b[32m7.1/7.1 MB\u001b[0m \u001b[31m61.0 MB/s\u001b[0m eta \u001b[36m0:00:00\u001b[0m\n",
            "\u001b[2K     \u001b[90m━━━━━━━━━━━━━━━━━━━━━━━━━━━━━━━━━━━━━━\u001b[0m \u001b[32m474.6/474.6 kB\u001b[0m \u001b[31m32.3 MB/s\u001b[0m eta \u001b[36m0:00:00\u001b[0m\n",
            "\u001b[?25h  Preparing metadata (setup.py) ... \u001b[?25l\u001b[?25hdone\n",
            "\u001b[2K     \u001b[90m━━━━━━━━━━━━━━━━━━━━━━━━━━━━━━━━━━━━━━\u001b[0m \u001b[32m224.5/224.5 kB\u001b[0m \u001b[31m20.9 MB/s\u001b[0m eta \u001b[36m0:00:00\u001b[0m\n",
            "\u001b[2K     \u001b[90m━━━━━━━━━━━━━━━━━━━━━━━━━━━━━━━━━━━━━━━━\u001b[0m \u001b[32m7.8/7.8 MB\u001b[0m \u001b[31m40.4 MB/s\u001b[0m eta \u001b[36m0:00:00\u001b[0m\n",
            "\u001b[2K     \u001b[90m━━━━━━━━━━━━━━━━━━━━━━━━━━━━━━━━━━━━━━\u001b[0m \u001b[32m110.5/110.5 kB\u001b[0m \u001b[31m15.4 MB/s\u001b[0m eta \u001b[36m0:00:00\u001b[0m\n",
            "\u001b[2K     \u001b[90m━━━━━━━━━━━━━━━━━━━━━━━━━━━━━━━━━━━━━━\u001b[0m \u001b[32m212.5/212.5 kB\u001b[0m \u001b[31m27.7 MB/s\u001b[0m eta \u001b[36m0:00:00\u001b[0m\n",
            "\u001b[2K     \u001b[90m━━━━━━━━━━━━━━━━━━━━━━━━━━━━━━━━━━━━━━\u001b[0m \u001b[32m134.3/134.3 kB\u001b[0m \u001b[31m18.7 MB/s\u001b[0m eta \u001b[36m0:00:00\u001b[0m\n",
            "\u001b[2K     \u001b[90m━━━━━━━━━━━━━━━━━━━━━━━━━━━━━━━━━━━━━━━━\u001b[0m \u001b[32m1.0/1.0 MB\u001b[0m \u001b[31m58.3 MB/s\u001b[0m eta \u001b[36m0:00:00\u001b[0m\n",
            "\u001b[2K     \u001b[90m━━━━━━━━━━━━━━━━━━━━━━━━━━━━━━━━━━━━━━\u001b[0m \u001b[32m114.5/114.5 kB\u001b[0m \u001b[31m14.4 MB/s\u001b[0m eta \u001b[36m0:00:00\u001b[0m\n",
            "\u001b[2K     \u001b[90m━━━━━━━━━━━━━━━━━━━━━━━━━━━━━━━━━━━━━━\u001b[0m \u001b[32m268.8/268.8 kB\u001b[0m \u001b[31m29.5 MB/s\u001b[0m eta \u001b[36m0:00:00\u001b[0m\n",
            "\u001b[2K     \u001b[90m━━━━━━━━━━━━━━━━━━━━━━━━━━━━━━━━━━━━━━\u001b[0m \u001b[32m149.6/149.6 kB\u001b[0m \u001b[31m20.2 MB/s\u001b[0m eta \u001b[36m0:00:00\u001b[0m\n",
            "\u001b[?25h  Building wheel for rouge_score (setup.py) ... \u001b[?25l\u001b[?25hdone\n",
            "\u001b[2K     \u001b[90m━━━━━━━━━━━━━━━━━━━━━━━━━━━━━━━━━━━━━━━━\u001b[0m \u001b[32m1.3/1.3 MB\u001b[0m \u001b[31m28.2 MB/s\u001b[0m eta \u001b[36m0:00:00\u001b[0m\n",
            "\u001b[2K     \u001b[90m━━━━━━━━━━━━━━━━━━━━━━━━━━━━━━━━━━━━━━\u001b[0m \u001b[32m219.1/219.1 kB\u001b[0m \u001b[31m27.1 MB/s\u001b[0m eta \u001b[36m0:00:00\u001b[0m\n",
            "\u001b[?25h"
          ]
        }
      ],
      "source": [
        "# !pip install -q transformers datasets rouge_score\n",
        "# !pip install -q sentencepiece accelerate"
      ]
    },
    {
      "cell_type": "markdown",
      "metadata": {
        "id": "v9Wlvo4lLE4N"
      },
      "source": [
        "## Importing Libraries"
      ]
    },
    {
      "cell_type": "code",
      "execution_count": 1,
      "metadata": {
        "id": "64D24qjNLEiS"
      },
      "outputs": [],
      "source": [
        "import numpy as np\n",
        "import pandas as pd\n",
        "import nltk\n",
        "\n",
        "import torch\n",
        "from torch.utils.data import Dataset, DataLoader\n",
        "from transformers import (\n",
        "    BartTokenizer,\n",
        "    BartForConditionalGeneration,\n",
        "    BartConfig,\n",
        "    TrainingArguments,\n",
        "    Trainer,\n",
        "    default_data_collator,\n",
        "    EarlyStoppingCallback\n",
        ")"
      ]
    },
    {
      "cell_type": "markdown",
      "metadata": {
        "id": "LqnNoZs-cfiB"
      },
      "source": [
        "## Preparing Dataset"
      ]
    },
    {
      "cell_type": "code",
      "execution_count": 2,
      "metadata": {
        "id": "TD33HuBbLQUe"
      },
      "outputs": [],
      "source": [
        "# importing datasets \n",
        "data_path = '/content/drive/MyDrive/datasets/sample_findsum_v1/'\n",
        "train_data_path = data_path + \"sample_findsum_train_v1.csv\"\n",
        "test_data_path = data_path + \"sample_findsum_test_v1.csv\"\n",
        "val_data_path = data_path + \"sample_findsum_val_v1.csv\""
      ]
    },
    {
      "cell_type": "code",
      "execution_count": 3,
      "metadata": {
        "id": "2PfUUPhAdhO9"
      },
      "outputs": [],
      "source": [
        "# Load datasets\n",
        "train_data = pd.read_csv(train_data_path)\n",
        "test_data = pd.read_csv(test_data_path)\n",
        "val_data = pd.read_csv(val_data_path)"
      ]
    },
    {
      "cell_type": "code",
      "execution_count": 4,
      "metadata": {
        "colab": {
          "base_uri": "https://localhost:8080/"
        },
        "id": "geqhfhiBdjjr",
        "outputId": "adf19ef5-2774-4a93-eb1a-2d55c805e391"
      },
      "outputs": [
        {
          "output_type": "execute_result",
          "data": {
            "text/plain": [
              "((5000, 2), (300, 2), (300, 2))"
            ]
          },
          "metadata": {},
          "execution_count": 4
        }
      ],
      "source": [
        "# checking the shape of datasets\n",
        "train_data.shape, test_data.shape, val_data.shape"
      ]
    },
    {
      "cell_type": "code",
      "execution_count": 5,
      "metadata": {
        "colab": {
          "base_uri": "https://localhost:8080/",
          "height": 206
        },
        "id": "2BUu-EPRvp5O",
        "outputId": "47e27cc8-bf43-42da-9e5a-a44ba51f85c3"
      },
      "outputs": [
        {
          "output_type": "execute_result",
          "data": {
            "text/plain": [
              "                                            document  \\\n",
              "0  gross profit for plant nutrition north america...   \n",
              "1  the european commission , or ec , has granted ...   \n",
              "2  in 2012 the fulfill program generated $ 1.4 mi...   \n",
              "3  combined sales to academic and governmental cu...   \n",
              "4  the timing and amount of these investments var...   \n",
              "\n",
              "                                             summary  \n",
              "0  capital resources we believe our primary sourc...  \n",
              "1  liquidity and capital resources from our incep...  \n",
              "2  liquidity and capital resources cash flows pro...  \n",
              "3  cash flow from operating activities net cash p...  \n",
              "4  cash flows the following table sets forth data...  "
            ],
            "text/html": [
              "\n",
              "  <div id=\"df-5e49b6c3-cd01-4cb4-9eda-37c7542a3733\">\n",
              "    <div class=\"colab-df-container\">\n",
              "      <div>\n",
              "<style scoped>\n",
              "    .dataframe tbody tr th:only-of-type {\n",
              "        vertical-align: middle;\n",
              "    }\n",
              "\n",
              "    .dataframe tbody tr th {\n",
              "        vertical-align: top;\n",
              "    }\n",
              "\n",
              "    .dataframe thead th {\n",
              "        text-align: right;\n",
              "    }\n",
              "</style>\n",
              "<table border=\"1\" class=\"dataframe\">\n",
              "  <thead>\n",
              "    <tr style=\"text-align: right;\">\n",
              "      <th></th>\n",
              "      <th>document</th>\n",
              "      <th>summary</th>\n",
              "    </tr>\n",
              "  </thead>\n",
              "  <tbody>\n",
              "    <tr>\n",
              "      <th>0</th>\n",
              "      <td>gross profit for plant nutrition north america...</td>\n",
              "      <td>capital resources we believe our primary sourc...</td>\n",
              "    </tr>\n",
              "    <tr>\n",
              "      <th>1</th>\n",
              "      <td>the european commission , or ec , has granted ...</td>\n",
              "      <td>liquidity and capital resources from our incep...</td>\n",
              "    </tr>\n",
              "    <tr>\n",
              "      <th>2</th>\n",
              "      <td>in 2012 the fulfill program generated $ 1.4 mi...</td>\n",
              "      <td>liquidity and capital resources cash flows pro...</td>\n",
              "    </tr>\n",
              "    <tr>\n",
              "      <th>3</th>\n",
              "      <td>combined sales to academic and governmental cu...</td>\n",
              "      <td>cash flow from operating activities net cash p...</td>\n",
              "    </tr>\n",
              "    <tr>\n",
              "      <th>4</th>\n",
              "      <td>the timing and amount of these investments var...</td>\n",
              "      <td>cash flows the following table sets forth data...</td>\n",
              "    </tr>\n",
              "  </tbody>\n",
              "</table>\n",
              "</div>\n",
              "      <button class=\"colab-df-convert\" onclick=\"convertToInteractive('df-5e49b6c3-cd01-4cb4-9eda-37c7542a3733')\"\n",
              "              title=\"Convert this dataframe to an interactive table.\"\n",
              "              style=\"display:none;\">\n",
              "        \n",
              "  <svg xmlns=\"http://www.w3.org/2000/svg\" height=\"24px\"viewBox=\"0 0 24 24\"\n",
              "       width=\"24px\">\n",
              "    <path d=\"M0 0h24v24H0V0z\" fill=\"none\"/>\n",
              "    <path d=\"M18.56 5.44l.94 2.06.94-2.06 2.06-.94-2.06-.94-.94-2.06-.94 2.06-2.06.94zm-11 1L8.5 8.5l.94-2.06 2.06-.94-2.06-.94L8.5 2.5l-.94 2.06-2.06.94zm10 10l.94 2.06.94-2.06 2.06-.94-2.06-.94-.94-2.06-.94 2.06-2.06.94z\"/><path d=\"M17.41 7.96l-1.37-1.37c-.4-.4-.92-.59-1.43-.59-.52 0-1.04.2-1.43.59L10.3 9.45l-7.72 7.72c-.78.78-.78 2.05 0 2.83L4 21.41c.39.39.9.59 1.41.59.51 0 1.02-.2 1.41-.59l7.78-7.78 2.81-2.81c.8-.78.8-2.07 0-2.86zM5.41 20L4 18.59l7.72-7.72 1.47 1.35L5.41 20z\"/>\n",
              "  </svg>\n",
              "      </button>\n",
              "      \n",
              "  <style>\n",
              "    .colab-df-container {\n",
              "      display:flex;\n",
              "      flex-wrap:wrap;\n",
              "      gap: 12px;\n",
              "    }\n",
              "\n",
              "    .colab-df-convert {\n",
              "      background-color: #E8F0FE;\n",
              "      border: none;\n",
              "      border-radius: 50%;\n",
              "      cursor: pointer;\n",
              "      display: none;\n",
              "      fill: #1967D2;\n",
              "      height: 32px;\n",
              "      padding: 0 0 0 0;\n",
              "      width: 32px;\n",
              "    }\n",
              "\n",
              "    .colab-df-convert:hover {\n",
              "      background-color: #E2EBFA;\n",
              "      box-shadow: 0px 1px 2px rgba(60, 64, 67, 0.3), 0px 1px 3px 1px rgba(60, 64, 67, 0.15);\n",
              "      fill: #174EA6;\n",
              "    }\n",
              "\n",
              "    [theme=dark] .colab-df-convert {\n",
              "      background-color: #3B4455;\n",
              "      fill: #D2E3FC;\n",
              "    }\n",
              "\n",
              "    [theme=dark] .colab-df-convert:hover {\n",
              "      background-color: #434B5C;\n",
              "      box-shadow: 0px 1px 3px 1px rgba(0, 0, 0, 0.15);\n",
              "      filter: drop-shadow(0px 1px 2px rgba(0, 0, 0, 0.3));\n",
              "      fill: #FFFFFF;\n",
              "    }\n",
              "  </style>\n",
              "\n",
              "      <script>\n",
              "        const buttonEl =\n",
              "          document.querySelector('#df-5e49b6c3-cd01-4cb4-9eda-37c7542a3733 button.colab-df-convert');\n",
              "        buttonEl.style.display =\n",
              "          google.colab.kernel.accessAllowed ? 'block' : 'none';\n",
              "\n",
              "        async function convertToInteractive(key) {\n",
              "          const element = document.querySelector('#df-5e49b6c3-cd01-4cb4-9eda-37c7542a3733');\n",
              "          const dataTable =\n",
              "            await google.colab.kernel.invokeFunction('convertToInteractive',\n",
              "                                                     [key], {});\n",
              "          if (!dataTable) return;\n",
              "\n",
              "          const docLinkHtml = 'Like what you see? Visit the ' +\n",
              "            '<a target=\"_blank\" href=https://colab.research.google.com/notebooks/data_table.ipynb>data table notebook</a>'\n",
              "            + ' to learn more about interactive tables.';\n",
              "          element.innerHTML = '';\n",
              "          dataTable['output_type'] = 'display_data';\n",
              "          await google.colab.output.renderOutput(dataTable, element);\n",
              "          const docLink = document.createElement('div');\n",
              "          docLink.innerHTML = docLinkHtml;\n",
              "          element.appendChild(docLink);\n",
              "        }\n",
              "      </script>\n",
              "    </div>\n",
              "  </div>\n",
              "  "
            ]
          },
          "metadata": {},
          "execution_count": 5
        }
      ],
      "source": [
        "train_data.head()"
      ]
    },
    {
      "cell_type": "code",
      "execution_count": 6,
      "metadata": {
        "id": "KVGYs88jJmFP"
      },
      "outputs": [],
      "source": [
        "# Define your custom dataset class\n",
        "class MyDataset(Dataset):\n",
        "    def __init__(self, dataframe, tokenizer):\n",
        "        self.data = dataframe\n",
        "        self.tokenizer = tokenizer\n",
        "    \n",
        "    def __len__(self):\n",
        "        return len(self.data)\n",
        "    \n",
        "    def __getitem__(self, idx):\n",
        "        row = self.data.iloc[idx]\n",
        "        document = row['document']\n",
        "        summary = row['summary']\n",
        "        \n",
        "        inputs = self.tokenizer.batch_encode_plus(\n",
        "            [document],\n",
        "            padding='max_length',\n",
        "            truncation=True,\n",
        "            max_length=512,\n",
        "            return_tensors='pt'\n",
        "            )\n",
        "        input_ids = inputs['input_ids'].squeeze()\n",
        "        attention_mask = inputs['attention_mask'].squeeze()\n",
        "        \n",
        "        summary_inputs = self.tokenizer.batch_encode_plus(\n",
        "            [summary],\n",
        "            padding='max_length',\n",
        "            truncation=True,\n",
        "            max_length=64,\n",
        "            return_tensors='pt'\n",
        "            )\n",
        "        summary_ids = summary_inputs['input_ids'].squeeze()\n",
        "        summary_attention_mask = summary_inputs['attention_mask'].squeeze()\n",
        "        \n",
        "        return {\n",
        "            'input_ids': input_ids,\n",
        "            'attention_mask': attention_mask,\n",
        "            'labels': summary_ids,\n",
        "            'decoder_attention_mask': summary_attention_mask\n",
        "        }"
      ]
    },
    {
      "cell_type": "code",
      "execution_count": 7,
      "metadata": {
        "id": "q5_pBhp0xjWo"
      },
      "outputs": [],
      "source": [
        "# Load the BART tokenizer and model\n",
        "tokenizer = BartTokenizer.from_pretrained('facebook/bart-base')\n",
        "model = BartForConditionalGeneration.from_pretrained('facebook/bart-base')"
      ]
    },
    {
      "cell_type": "code",
      "execution_count": 8,
      "metadata": {
        "id": "maj5vKaeJmFR"
      },
      "outputs": [],
      "source": [
        "# Create datasets\n",
        "train_dataset = MyDataset(train_data, tokenizer)\n",
        "val_dataset = MyDataset(val_data, tokenizer)\n",
        "test_dataset = MyDataset(test_data, tokenizer)"
      ]
    },
    {
      "cell_type": "code",
      "execution_count": 9,
      "metadata": {
        "id": "16_QdAVZ01LE",
        "colab": {
          "base_uri": "https://localhost:8080/"
        },
        "outputId": "d6423a1a-a491-42c5-cb7c-c4b43d8f20a0"
      },
      "outputs": [
        {
          "output_type": "execute_result",
          "data": {
            "text/plain": [
              "BartForConditionalGeneration(\n",
              "  (model): BartModel(\n",
              "    (shared): Embedding(50265, 768, padding_idx=1)\n",
              "    (encoder): BartEncoder(\n",
              "      (embed_tokens): Embedding(50265, 768, padding_idx=1)\n",
              "      (embed_positions): BartLearnedPositionalEmbedding(1026, 768)\n",
              "      (layers): ModuleList(\n",
              "        (0-5): 6 x BartEncoderLayer(\n",
              "          (self_attn): BartAttention(\n",
              "            (k_proj): Linear(in_features=768, out_features=768, bias=True)\n",
              "            (v_proj): Linear(in_features=768, out_features=768, bias=True)\n",
              "            (q_proj): Linear(in_features=768, out_features=768, bias=True)\n",
              "            (out_proj): Linear(in_features=768, out_features=768, bias=True)\n",
              "          )\n",
              "          (self_attn_layer_norm): LayerNorm((768,), eps=1e-05, elementwise_affine=True)\n",
              "          (activation_fn): GELUActivation()\n",
              "          (fc1): Linear(in_features=768, out_features=3072, bias=True)\n",
              "          (fc2): Linear(in_features=3072, out_features=768, bias=True)\n",
              "          (final_layer_norm): LayerNorm((768,), eps=1e-05, elementwise_affine=True)\n",
              "        )\n",
              "      )\n",
              "      (layernorm_embedding): LayerNorm((768,), eps=1e-05, elementwise_affine=True)\n",
              "    )\n",
              "    (decoder): BartDecoder(\n",
              "      (embed_tokens): Embedding(50265, 768, padding_idx=1)\n",
              "      (embed_positions): BartLearnedPositionalEmbedding(1026, 768)\n",
              "      (layers): ModuleList(\n",
              "        (0-5): 6 x BartDecoderLayer(\n",
              "          (self_attn): BartAttention(\n",
              "            (k_proj): Linear(in_features=768, out_features=768, bias=True)\n",
              "            (v_proj): Linear(in_features=768, out_features=768, bias=True)\n",
              "            (q_proj): Linear(in_features=768, out_features=768, bias=True)\n",
              "            (out_proj): Linear(in_features=768, out_features=768, bias=True)\n",
              "          )\n",
              "          (activation_fn): GELUActivation()\n",
              "          (self_attn_layer_norm): LayerNorm((768,), eps=1e-05, elementwise_affine=True)\n",
              "          (encoder_attn): BartAttention(\n",
              "            (k_proj): Linear(in_features=768, out_features=768, bias=True)\n",
              "            (v_proj): Linear(in_features=768, out_features=768, bias=True)\n",
              "            (q_proj): Linear(in_features=768, out_features=768, bias=True)\n",
              "            (out_proj): Linear(in_features=768, out_features=768, bias=True)\n",
              "          )\n",
              "          (encoder_attn_layer_norm): LayerNorm((768,), eps=1e-05, elementwise_affine=True)\n",
              "          (fc1): Linear(in_features=768, out_features=3072, bias=True)\n",
              "          (fc2): Linear(in_features=3072, out_features=768, bias=True)\n",
              "          (final_layer_norm): LayerNorm((768,), eps=1e-05, elementwise_affine=True)\n",
              "        )\n",
              "      )\n",
              "      (layernorm_embedding): LayerNorm((768,), eps=1e-05, elementwise_affine=True)\n",
              "    )\n",
              "  )\n",
              "  (lm_head): Linear(in_features=768, out_features=50265, bias=False)\n",
              ")"
            ]
          },
          "metadata": {},
          "execution_count": 9
        }
      ],
      "source": [
        "# Set device (GPU if available, else CPU)\n",
        "device = torch.device('cuda' if torch.cuda.is_available() else 'cpu')\n",
        "\n",
        "# Move model to the device\n",
        "model.to(device)"
      ]
    },
    {
      "cell_type": "code",
      "source": [
        "# Set your training parameters\n",
        "batch_size = 16\n",
        "epochs = 4\n",
        "learning_rate = 1e-5"
      ],
      "metadata": {
        "id": "tIulz5Q8OHzF"
      },
      "execution_count": 10,
      "outputs": []
    },
    {
      "cell_type": "code",
      "execution_count": 11,
      "metadata": {
        "id": "zNjcUvYNJmFR"
      },
      "outputs": [],
      "source": [
        "# # Define the optimizer and loss function\n",
        "# optimizer = torch.optim.AdamW(model.parameters(), lr=learning_rate)\n",
        "# criterion = torch.nn.CrossEntropyLoss()"
      ]
    },
    {
      "cell_type": "code",
      "execution_count": 12,
      "metadata": {
        "id": "JEkV615hJmFS"
      },
      "outputs": [],
      "source": [
        "# Define the TrainingArguments\n",
        "training_args = TrainingArguments(\n",
        "    output_dir='./results',\n",
        "    num_train_epochs=epochs,\n",
        "    per_device_train_batch_size=batch_size,\n",
        "    per_device_eval_batch_size=batch_size,\n",
        "    learning_rate=learning_rate,\n",
        "    save_total_limit=4,\n",
        "    optim='adamw_torch',\n",
        "    load_best_model_at_end=True,\n",
        "    metric_for_best_model=\"eval_loss\",\n",
        "    greater_is_better=False,\n",
        "    evaluation_strategy=\"epoch\",\n",
        "    save_strategy=\"epoch\",\n",
        "    weight_decay=0.01,\n",
        "    logging_dir='./logs',\n",
        "    logging_steps=10,\n",
        "    eval_steps=50,\n",
        "    save_steps=100,\n",
        "    report_to='none'\n",
        ")"
      ]
    },
    {
      "cell_type": "code",
      "execution_count": 13,
      "metadata": {
        "id": "2INt61iXJmFS"
      },
      "outputs": [],
      "source": [
        "# Define Trainer\n",
        "trainer = Trainer(\n",
        "    model=model,\n",
        "    args=training_args,\n",
        "    train_dataset=train_dataset,\n",
        "    eval_dataset=val_dataset,\n",
        "    data_collator=default_data_collator,\n",
        "    tokenizer=tokenizer,\n",
        "    callbacks=[EarlyStoppingCallback(early_stopping_patience=2)]\n",
        ")"
      ]
    },
    {
      "cell_type": "code",
      "execution_count": 14,
      "metadata": {
        "colab": {
          "base_uri": "https://localhost:8080/",
          "height": 290
        },
        "id": "K98U5prjJmFS",
        "outputId": "c85a4577-b3ca-48b1-b677-1fd7fc293dc4"
      },
      "outputs": [
        {
          "output_type": "stream",
          "name": "stderr",
          "text": [
            "/usr/local/lib/python3.10/dist-packages/transformers/optimization.py:407: FutureWarning: This implementation of AdamW is deprecated and will be removed in a future version. Use the PyTorch implementation torch.optim.AdamW instead, or set `no_deprecation_warning=True` to disable this warning\n",
            "  warnings.warn(\n"
          ]
        },
        {
          "output_type": "display_data",
          "data": {
            "text/plain": [
              "<IPython.core.display.HTML object>"
            ],
            "text/html": [
              "\n",
              "    <div>\n",
              "      \n",
              "      <progress value='1252' max='1252' style='width:300px; height:20px; vertical-align: middle;'></progress>\n",
              "      [1252/1252 32:04, Epoch 4/4]\n",
              "    </div>\n",
              "    <table border=\"1\" class=\"dataframe\">\n",
              "  <thead>\n",
              " <tr style=\"text-align: left;\">\n",
              "      <th>Epoch</th>\n",
              "      <th>Training Loss</th>\n",
              "      <th>Validation Loss</th>\n",
              "    </tr>\n",
              "  </thead>\n",
              "  <tbody>\n",
              "    <tr>\n",
              "      <td>1</td>\n",
              "      <td>2.387400</td>\n",
              "      <td>2.146931</td>\n",
              "    </tr>\n",
              "    <tr>\n",
              "      <td>2</td>\n",
              "      <td>2.252800</td>\n",
              "      <td>2.057034</td>\n",
              "    </tr>\n",
              "    <tr>\n",
              "      <td>3</td>\n",
              "      <td>2.324800</td>\n",
              "      <td>2.014448</td>\n",
              "    </tr>\n",
              "    <tr>\n",
              "      <td>4</td>\n",
              "      <td>2.238400</td>\n",
              "      <td>2.003169</td>\n",
              "    </tr>\n",
              "  </tbody>\n",
              "</table><p>"
            ]
          },
          "metadata": {}
        },
        {
          "output_type": "execute_result",
          "data": {
            "text/plain": [
              "TrainOutput(global_step=1252, training_loss=2.3518184556747777, metrics={'train_runtime': 1926.5193, 'train_samples_per_second': 10.381, 'train_steps_per_second': 0.65, 'total_flos': 6097364582400000.0, 'train_loss': 2.3518184556747777, 'epoch': 4.0})"
            ]
          },
          "metadata": {},
          "execution_count": 14
        }
      ],
      "source": [
        "# Start the fine-tuning process\n",
        "trainer.train()"
      ]
    },
    {
      "cell_type": "code",
      "execution_count": null,
      "metadata": {
        "id": "_n8JGLy9JmFS"
      },
      "outputs": [],
      "source": [
        "# free up GPU memory\n",
        "# del train_data, val_data, trainer, model, tokenizer\n",
        "# del train_data, val_data, model, tokenizer\n",
        "# torch.cuda.empty_cache()"
      ]
    },
    {
      "cell_type": "code",
      "execution_count": 15,
      "metadata": {
        "colab": {
          "base_uri": "https://localhost:8080/",
          "height": 74
        },
        "id": "78ReQOR1JmFT",
        "outputId": "f1afbdcc-83ed-4d64-d722-329be11a3739"
      },
      "outputs": [
        {
          "output_type": "display_data",
          "data": {
            "text/plain": [
              "<IPython.core.display.HTML object>"
            ],
            "text/html": [
              "\n",
              "    <div>\n",
              "      \n",
              "      <progress value='19' max='19' style='width:300px; height:20px; vertical-align: middle;'></progress>\n",
              "      [19/19 00:12]\n",
              "    </div>\n",
              "    "
            ]
          },
          "metadata": {}
        },
        {
          "output_type": "stream",
          "name": "stdout",
          "text": [
            "Test set evaluation: {'eval_loss': 2.11981201171875, 'eval_runtime': 13.2295, 'eval_samples_per_second': 22.677, 'eval_steps_per_second': 1.436, 'epoch': 4.0}\n"
          ]
        }
      ],
      "source": [
        "# Evaluate on the test set\n",
        "results = trainer.evaluate(test_dataset)\n",
        "print(f\"Test set evaluation: {results}\")"
      ]
    },
    {
      "cell_type": "code",
      "execution_count": 16,
      "metadata": {
        "id": "VBzJSddKJmFT"
      },
      "outputs": [],
      "source": [
        "# Save the model and tokenizer\n",
        "tokenizer.save_pretrained(\"/content/drive/MyDrive/test/bart\")\n",
        "model.save_pretrained(\"/content/drive/MyDrive/test/bart\")"
      ]
    },
    {
      "cell_type": "markdown",
      "metadata": {
        "id": "rcKbWyyBJmFT"
      },
      "source": [
        "## Check BLEU Score of test dataset\n",
        "* We will use BLEU Score and see how good our model is generating summarization.\n",
        "* I will use `corpus_bleu` from `nltk` so, that I will get one `bleu_score` of whole test dataset."
      ]
    },
    {
      "cell_type": "code",
      "execution_count": 2,
      "metadata": {
        "id": "KP_uzka4JmFT"
      },
      "outputs": [],
      "source": [
        "# !pip install -q rouge-score"
      ]
    },
    {
      "cell_type": "code",
      "execution_count": 3,
      "metadata": {
        "id": "pVbYh-6CJmFT"
      },
      "outputs": [],
      "source": [
        "import torch\n",
        "import pandas as pd\n",
        "from transformers import BartTokenizer, BartForConditionalGeneration\n",
        "from datasets import load_dataset\n",
        "from rouge_score import rouge_scorer"
      ]
    },
    {
      "cell_type": "code",
      "execution_count": 4,
      "metadata": {
        "colab": {
          "base_uri": "https://localhost:8080/"
        },
        "id": "Wp4YvWRfJmFU",
        "outputId": "23266411-e3f8-4e0a-bd6e-efe84b546ec2"
      },
      "outputs": [
        {
          "output_type": "execute_result",
          "data": {
            "text/plain": [
              "BartForConditionalGeneration(\n",
              "  (model): BartModel(\n",
              "    (shared): Embedding(50265, 768, padding_idx=1)\n",
              "    (encoder): BartEncoder(\n",
              "      (embed_tokens): Embedding(50265, 768, padding_idx=1)\n",
              "      (embed_positions): BartLearnedPositionalEmbedding(1026, 768)\n",
              "      (layers): ModuleList(\n",
              "        (0-5): 6 x BartEncoderLayer(\n",
              "          (self_attn): BartAttention(\n",
              "            (k_proj): Linear(in_features=768, out_features=768, bias=True)\n",
              "            (v_proj): Linear(in_features=768, out_features=768, bias=True)\n",
              "            (q_proj): Linear(in_features=768, out_features=768, bias=True)\n",
              "            (out_proj): Linear(in_features=768, out_features=768, bias=True)\n",
              "          )\n",
              "          (self_attn_layer_norm): LayerNorm((768,), eps=1e-05, elementwise_affine=True)\n",
              "          (activation_fn): GELUActivation()\n",
              "          (fc1): Linear(in_features=768, out_features=3072, bias=True)\n",
              "          (fc2): Linear(in_features=3072, out_features=768, bias=True)\n",
              "          (final_layer_norm): LayerNorm((768,), eps=1e-05, elementwise_affine=True)\n",
              "        )\n",
              "      )\n",
              "      (layernorm_embedding): LayerNorm((768,), eps=1e-05, elementwise_affine=True)\n",
              "    )\n",
              "    (decoder): BartDecoder(\n",
              "      (embed_tokens): Embedding(50265, 768, padding_idx=1)\n",
              "      (embed_positions): BartLearnedPositionalEmbedding(1026, 768)\n",
              "      (layers): ModuleList(\n",
              "        (0-5): 6 x BartDecoderLayer(\n",
              "          (self_attn): BartAttention(\n",
              "            (k_proj): Linear(in_features=768, out_features=768, bias=True)\n",
              "            (v_proj): Linear(in_features=768, out_features=768, bias=True)\n",
              "            (q_proj): Linear(in_features=768, out_features=768, bias=True)\n",
              "            (out_proj): Linear(in_features=768, out_features=768, bias=True)\n",
              "          )\n",
              "          (activation_fn): GELUActivation()\n",
              "          (self_attn_layer_norm): LayerNorm((768,), eps=1e-05, elementwise_affine=True)\n",
              "          (encoder_attn): BartAttention(\n",
              "            (k_proj): Linear(in_features=768, out_features=768, bias=True)\n",
              "            (v_proj): Linear(in_features=768, out_features=768, bias=True)\n",
              "            (q_proj): Linear(in_features=768, out_features=768, bias=True)\n",
              "            (out_proj): Linear(in_features=768, out_features=768, bias=True)\n",
              "          )\n",
              "          (encoder_attn_layer_norm): LayerNorm((768,), eps=1e-05, elementwise_affine=True)\n",
              "          (fc1): Linear(in_features=768, out_features=3072, bias=True)\n",
              "          (fc2): Linear(in_features=3072, out_features=768, bias=True)\n",
              "          (final_layer_norm): LayerNorm((768,), eps=1e-05, elementwise_affine=True)\n",
              "        )\n",
              "      )\n",
              "      (layernorm_embedding): LayerNorm((768,), eps=1e-05, elementwise_affine=True)\n",
              "    )\n",
              "  )\n",
              "  (lm_head): Linear(in_features=768, out_features=50265, bias=False)\n",
              ")"
            ]
          },
          "metadata": {},
          "execution_count": 4
        }
      ],
      "source": [
        "# Load the BART tokenizer and model\n",
        "model_path = '/content/drive/MyDrive/test/bart'\n",
        "tokenizer = BartTokenizer.from_pretrained(model_path)\n",
        "model = BartForConditionalGeneration.from_pretrained(model_path)\n",
        "\n",
        "# Set device (GPU if available, else CPU)\n",
        "device = torch.device('cuda' if torch.cuda.is_available() else 'cpu')\n",
        "\n",
        "# Move model to the device\n",
        "model.to(device)\n"
      ]
    },
    {
      "cell_type": "code",
      "source": [
        "from nltk.translate.bleu_score import sentence_bleu, SmoothingFunction\n",
        "\n",
        "def compute_bleu_score(preds, targets):\n",
        "    bleu_scores = []\n",
        "    smoothing_func = SmoothingFunction().method1\n",
        "    for pred, target in zip(preds, targets):\n",
        "        pred = pred.replace('<s>', '').replace('</s>', '').strip()\n",
        "        target = target.replace('<s>', '').replace('</s>', '').strip()\n",
        "        pred_tokens = pred.split()\n",
        "        target_tokens = target.split()\n",
        "        bleu_score = sentence_bleu([target_tokens], pred_tokens, smoothing_function=smoothing_func)\n",
        "        bleu_scores.append(bleu_score)\n",
        "    avg_bleu_score = sum(bleu_scores) / len(bleu_scores)\n",
        "    return {'bleu_score': avg_bleu_score}"
      ],
      "metadata": {
        "id": "-oTlcNh0bqsl"
      },
      "execution_count": 9,
      "outputs": []
    },
    {
      "cell_type": "code",
      "source": [
        "test_data.head()"
      ],
      "metadata": {
        "colab": {
          "base_uri": "https://localhost:8080/",
          "height": 206
        },
        "id": "IKN5joedcVYo",
        "outputId": "8e5e5f53-8fbb-41fa-8ddd-90678b32701e"
      },
      "execution_count": 21,
      "outputs": [
        {
          "output_type": "execute_result",
          "data": {
            "text/plain": [
              "                                            document  \\\n",
              "0  million from the issuance of 4,419,641 shares ...   \n",
              "1  we continue to be optimistic about our growth ...   \n",
              "2  usa today network ventures was designed to cel...   \n",
              "3  · changes in the financial condition , results...   \n",
              "4  our customers ' usage of our websites increase...   \n",
              "\n",
              "                                             summary  \n",
              "0  source and uses of cash 65 our primary sources...  \n",
              "1  liquidity and capital resources overview our p...  \n",
              "2  loss on early extinguishment of debt : for the...  \n",
              "3  liquidity we are required to have enough cash ...  \n",
              "4  liquidity our principal internal sources of li...  "
            ],
            "text/html": [
              "\n",
              "  <div id=\"df-d2881a5c-9e12-474d-af49-1bc093dde124\">\n",
              "    <div class=\"colab-df-container\">\n",
              "      <div>\n",
              "<style scoped>\n",
              "    .dataframe tbody tr th:only-of-type {\n",
              "        vertical-align: middle;\n",
              "    }\n",
              "\n",
              "    .dataframe tbody tr th {\n",
              "        vertical-align: top;\n",
              "    }\n",
              "\n",
              "    .dataframe thead th {\n",
              "        text-align: right;\n",
              "    }\n",
              "</style>\n",
              "<table border=\"1\" class=\"dataframe\">\n",
              "  <thead>\n",
              "    <tr style=\"text-align: right;\">\n",
              "      <th></th>\n",
              "      <th>document</th>\n",
              "      <th>summary</th>\n",
              "    </tr>\n",
              "  </thead>\n",
              "  <tbody>\n",
              "    <tr>\n",
              "      <th>0</th>\n",
              "      <td>million from the issuance of 4,419,641 shares ...</td>\n",
              "      <td>source and uses of cash 65 our primary sources...</td>\n",
              "    </tr>\n",
              "    <tr>\n",
              "      <th>1</th>\n",
              "      <td>we continue to be optimistic about our growth ...</td>\n",
              "      <td>liquidity and capital resources overview our p...</td>\n",
              "    </tr>\n",
              "    <tr>\n",
              "      <th>2</th>\n",
              "      <td>usa today network ventures was designed to cel...</td>\n",
              "      <td>loss on early extinguishment of debt : for the...</td>\n",
              "    </tr>\n",
              "    <tr>\n",
              "      <th>3</th>\n",
              "      <td>· changes in the financial condition , results...</td>\n",
              "      <td>liquidity we are required to have enough cash ...</td>\n",
              "    </tr>\n",
              "    <tr>\n",
              "      <th>4</th>\n",
              "      <td>our customers ' usage of our websites increase...</td>\n",
              "      <td>liquidity our principal internal sources of li...</td>\n",
              "    </tr>\n",
              "  </tbody>\n",
              "</table>\n",
              "</div>\n",
              "      <button class=\"colab-df-convert\" onclick=\"convertToInteractive('df-d2881a5c-9e12-474d-af49-1bc093dde124')\"\n",
              "              title=\"Convert this dataframe to an interactive table.\"\n",
              "              style=\"display:none;\">\n",
              "        \n",
              "  <svg xmlns=\"http://www.w3.org/2000/svg\" height=\"24px\"viewBox=\"0 0 24 24\"\n",
              "       width=\"24px\">\n",
              "    <path d=\"M0 0h24v24H0V0z\" fill=\"none\"/>\n",
              "    <path d=\"M18.56 5.44l.94 2.06.94-2.06 2.06-.94-2.06-.94-.94-2.06-.94 2.06-2.06.94zm-11 1L8.5 8.5l.94-2.06 2.06-.94-2.06-.94L8.5 2.5l-.94 2.06-2.06.94zm10 10l.94 2.06.94-2.06 2.06-.94-2.06-.94-.94-2.06-.94 2.06-2.06.94z\"/><path d=\"M17.41 7.96l-1.37-1.37c-.4-.4-.92-.59-1.43-.59-.52 0-1.04.2-1.43.59L10.3 9.45l-7.72 7.72c-.78.78-.78 2.05 0 2.83L4 21.41c.39.39.9.59 1.41.59.51 0 1.02-.2 1.41-.59l7.78-7.78 2.81-2.81c.8-.78.8-2.07 0-2.86zM5.41 20L4 18.59l7.72-7.72 1.47 1.35L5.41 20z\"/>\n",
              "  </svg>\n",
              "      </button>\n",
              "      \n",
              "  <style>\n",
              "    .colab-df-container {\n",
              "      display:flex;\n",
              "      flex-wrap:wrap;\n",
              "      gap: 12px;\n",
              "    }\n",
              "\n",
              "    .colab-df-convert {\n",
              "      background-color: #E8F0FE;\n",
              "      border: none;\n",
              "      border-radius: 50%;\n",
              "      cursor: pointer;\n",
              "      display: none;\n",
              "      fill: #1967D2;\n",
              "      height: 32px;\n",
              "      padding: 0 0 0 0;\n",
              "      width: 32px;\n",
              "    }\n",
              "\n",
              "    .colab-df-convert:hover {\n",
              "      background-color: #E2EBFA;\n",
              "      box-shadow: 0px 1px 2px rgba(60, 64, 67, 0.3), 0px 1px 3px 1px rgba(60, 64, 67, 0.15);\n",
              "      fill: #174EA6;\n",
              "    }\n",
              "\n",
              "    [theme=dark] .colab-df-convert {\n",
              "      background-color: #3B4455;\n",
              "      fill: #D2E3FC;\n",
              "    }\n",
              "\n",
              "    [theme=dark] .colab-df-convert:hover {\n",
              "      background-color: #434B5C;\n",
              "      box-shadow: 0px 1px 3px 1px rgba(0, 0, 0, 0.15);\n",
              "      filter: drop-shadow(0px 1px 2px rgba(0, 0, 0, 0.3));\n",
              "      fill: #FFFFFF;\n",
              "    }\n",
              "  </style>\n",
              "\n",
              "      <script>\n",
              "        const buttonEl =\n",
              "          document.querySelector('#df-d2881a5c-9e12-474d-af49-1bc093dde124 button.colab-df-convert');\n",
              "        buttonEl.style.display =\n",
              "          google.colab.kernel.accessAllowed ? 'block' : 'none';\n",
              "\n",
              "        async function convertToInteractive(key) {\n",
              "          const element = document.querySelector('#df-d2881a5c-9e12-474d-af49-1bc093dde124');\n",
              "          const dataTable =\n",
              "            await google.colab.kernel.invokeFunction('convertToInteractive',\n",
              "                                                     [key], {});\n",
              "          if (!dataTable) return;\n",
              "\n",
              "          const docLinkHtml = 'Like what you see? Visit the ' +\n",
              "            '<a target=\"_blank\" href=https://colab.research.google.com/notebooks/data_table.ipynb>data table notebook</a>'\n",
              "            + ' to learn more about interactive tables.';\n",
              "          element.innerHTML = '';\n",
              "          dataTable['output_type'] = 'display_data';\n",
              "          await google.colab.output.renderOutput(dataTable, element);\n",
              "          const docLink = document.createElement('div');\n",
              "          docLink.innerHTML = docLinkHtml;\n",
              "          element.appendChild(docLink);\n",
              "        }\n",
              "      </script>\n",
              "    </div>\n",
              "  </div>\n",
              "  "
            ]
          },
          "metadata": {},
          "execution_count": 21
        }
      ]
    },
    {
      "cell_type": "code",
      "source": [
        "input_text = test_data.loc[4, 'document']\n",
        "input_summary = test_data.loc[4, 'summary']"
      ],
      "metadata": {
        "id": "FkyNR4BWc0Y9"
      },
      "execution_count": 25,
      "outputs": []
    },
    {
      "cell_type": "code",
      "source": [
        "# input_text = '''\n",
        "# \"on september 5 , 2012 , we acquired tog , a precision machined metal and alloy parts provider to original \n",
        "# equipment manufacturers for the steam and natural gas turbine power generation market.\n",
        "# the addition of koontz-wagner 's engineered packaged control house solutions expanded our \n",
        "# products portfolio to our current customers , and supports the global expansion into \n",
        "# adjacent markets such as oil and gas pipelines . the acquisition of tog expanded our \n",
        "# products portfolio to serve the steam turbine market and , combined with our consolidated \n",
        "# fabricators business unit , established a growth platform for aftermarket energy parts sales .\n",
        "# the tog repair and replacement parts business provides a relatively stable revenue stream .\n",
        "# the financial results of the koontz-wagner acquisition and the tog acquisition have been included\n",
        "# in our product solutions segment .\n",
        "# '''"
      ],
      "metadata": {
        "id": "avekTJbZbs4b"
      },
      "execution_count": 26,
      "outputs": []
    },
    {
      "cell_type": "code",
      "source": [
        "input_ids = tokenizer.encode(\n",
        "    input_text,\n",
        "    padding='max_length',\n",
        "    truncation=True,\n",
        "    max_length=512,\n",
        "    return_tensors='pt').to(device)"
      ],
      "metadata": {
        "id": "-riySPS7btv8"
      },
      "execution_count": 28,
      "outputs": []
    },
    {
      "cell_type": "code",
      "source": [
        "summary_ids = model.generate(input_ids, max_length=64, do_sample=False).to(device)"
      ],
      "metadata": {
        "id": "1GqdCH8-bwfy"
      },
      "execution_count": 29,
      "outputs": []
    },
    {
      "cell_type": "code",
      "source": [
        "summary = tokenizer.decode(summary_ids[0], skip_special_tokens=True)"
      ],
      "metadata": {
        "id": "VxHGqEjeb7EE"
      },
      "execution_count": 30,
      "outputs": []
    },
    {
      "cell_type": "code",
      "source": [
        "from IPython.display import HTML, display\n",
        "\n",
        "def set_css():\n",
        "  display(HTML('''\n",
        "  <style>\n",
        "    pre {\n",
        "        white-space: pre-wrap;\n",
        "    }\n",
        "  </style>\n",
        "  '''))\n",
        "get_ipython().events.register('pre_run_cell', set_css)"
      ],
      "metadata": {
        "id": "ahC50P5ydxv0"
      },
      "execution_count": 32,
      "outputs": []
    },
    {
      "cell_type": "code",
      "source": [
        "print(\"BLEU Score: \", compute_bleu_score(input_text, summary)[\"bleu_score\"], \"\\n\")\n",
        "print(\"Paragraph: \\n\", input_text)"
      ],
      "metadata": {
        "colab": {
          "base_uri": "https://localhost:8080/",
          "height": 1000
        },
        "id": "S7rSGtp3cAGx",
        "outputId": "514dcf77-7f21-4e78-f212-a685a7ff79d3"
      },
      "execution_count": 35,
      "outputs": [
        {
          "output_type": "display_data",
          "data": {
            "text/plain": [
              "<IPython.core.display.HTML object>"
            ],
            "text/html": [
              "\n",
              "  <style>\n",
              "    pre {\n",
              "        white-space: pre-wrap;\n",
              "    }\n",
              "  </style>\n",
              "  "
            ]
          },
          "metadata": {}
        },
        {
          "output_type": "stream",
          "name": "stdout",
          "text": [
            "BLEU Score:  0.007271774539192622 \n",
            "\n",
            "Paragraph: \n",
            " our customers ' usage of our websites increased , as demonstrated through an increase in average monthly revenue per recruitment package customer of $ 1,044 for the year ended december 31 , 2014 to $ 1,094 for the year ended december 31 , 2015 . deferred revenue is a key metric of our business as it indicates a level of sales already made that will be recognized as revenue in the future . deferred revenue reflects the impact of our ability to sign customers to longer term contracts . we recorded deferred revenue of $ 84.3 million at december 31 , 2015 , including $ 969,000 of slashdot media deferred revenue classified as held for sale as of december 31 , 2015 , and $ 86.4 million at december 31 , 2014 . we also generate revenue from advertising on our various websites or from lead generation and marketing solutions provided to our customers . advertisements include various forms of rich media and banner advertising , text links , sponsorships , and custom content marketing solutions . lead generation information utilizes advertising and other methods to deliver leads to a customer . our ability to continue to grow our revenues will largely depend on our ability to grow our customer bases in the markets in which we operate by acquiring new recruitment package customers and advertisers while retaining a high proportion of the customers we currently serve , and to expand the breadth of services our customers purchase from us . we continue to make investments in our business and infrastructure to help us achieve our long-term growth objectives . 32 other material factors that may affect our results of operations include our ability to attract qualified professionals that become engaged with our websites and our ability to attract customers with relevant job opportunities . the more qualified professionals that use our websites , the more attractive our websites become to employers and advertisers , which in turn makes them more likely to become our customers , resulting positively on our results of operations . if we are unable to continue to attract qualified professionals to engage with our websites , our customers may no longer find our services attractive , which could have a negative impact on our results of operations . additionally , we need to ensure that our websites remain relevant in order to attract qualified professionals to our websites and to engage them in high-valued tasks , such as posting resumes and or applying to jobs . the largest components of our expenses are personnel costs and marketing and sales expenditures . personnel costs consist of salaries , benefits , and incentive compensation for our employees , including commissions for salespeople . personnel costs are categorized in our statement of operations based on each employee 's principal function . marketing expenditures primarily consist of online advertising , brand promotion and lead generation to employers and job seekers . critical accounting policies this discussion of our financial condition and results of operations is based upon our consolidated financial statements , which have been prepared in accordance with u.s. gaap . the preparation of these financial statements requires us to make estimates , judgments and assumptions that affect the reported amount of assets , liabilities , revenues and expenses and related disclosure of contingent assets and liabilities . on an ongoing basis , we evaluate our estimates , including those related to revenue , goodwill and intangible assets , stock-based compensation and income taxes . we based our estimates of the carrying value of certain assets and liabilities on historical experience and on various other assumptions that we believe are reasonable . in many cases , we could reasonably have used different accounting policies and estimates . in some cases , changes in the accounting estimates are reasonably likely to occur from period to period . our actual results may differ from these estimates under different assumptions or conditions . we believe the following critical accounting policies affect our more significant judgments used in the preparation of our consolidated financial statements . revenue recognition we recognize revenues when persuasive evidence of an agreement exists , delivery of service has occurred , the sales price is fixed or determinable and collectability is reasonably assured . payments received in advance of services being rendered are recorded as deferred revenue and recognized generally on a straight-line basis over the service period . we generate a majority of our revenue from the sale of recruitment packages . recruitment package revenues are derived from the sale to recruiters and employers a combination of job postings and access to a searchable database of candidates on our dice , rigzone , efinancialcareers , clearancejobs , health ecareers , biospace and hcareers websites . certain of our arrangements include multiple deliverables , which consist of the ability to post jobs and access to a searchable database of candidates . we determine the units of accounting for multiple element arrangements in accordance with the multiple-deliverable revenue arrangements subtopic of the fasb asc . specifically , we consider a delivered item as a separate unit of accounting if it has value to the customer on a standalone basis . our arrangements do not include a general right of return . services to customers buying a package of available job postings and access to the database are delivered over the same period and revenue is recognized ratably over the length of the underlying contract , typically from one to twelve months . the separation of the package into two deliverables results in no change in revenue recognition since delivery of the two services occurs over the same time period . revenue from the sale of classified job postings and data services is recognized ratably over the length of the contract or the period of actual usage . revenue from recruitment events is recognized when the event is held . story_separator_special_tag the corporate & other segment decreased $ 550,000 due to decreased salaries and related costs and commissions costs at workdigital of approximately $ 500,000 , delayed hiring and turnover and lower commissions at slashdot media of approximately $ 350,000 , partially offset by increased sales costs at corporate due to overall company sales training and recognition expenses of $ 200,000. the tech & clearance segment experienced an increase in sales and marketing expense of $ 1.6 million . sales expense increased by $ 1.6 million primarily due to increased employee-related expenses of $ 1.2 million and increased commissions costs of $ 288,000 as a result of higher billings . marketing costs increased $ 1.3 million at dice europe as a result of increased spending on search engine optimization , aggregators , and rebranding initiatives and decreased $ 1.2 million at dice primarily due to decreased spending on advertising . the healthcare segment experienced an increase in overall sales and marketing expense of $ 645,000 for the year ended december 31 , 2015 , due to increased marketing and branding initiatives . general and administrative expenses replace_table_token_11_th stock-based compensation expense was $ 10.2 million , an increase of $ 2.7 million compared to the same period in 2014 . the increase was primarily due to 415,000 psus issued in 2015 as described in note 12 to the consolidated financial statements . general and administrative expense for the tech & clearance segment decreased $ 1.9 million in the year ended december 31 , 2015 , as compared to the same period in 2014 , of which dice europe decreased $ 1.5 million primarily attributable to decreased compensation-related costs and lower rent expense in the current year . the remaining decrease in general and administrative expense for the tech & clearance segment was due to lower compensation related expenses , partially offset by increased rent and relocation costs . the $ 506,000 decrease in general and administrative expense for the energy segment was primarily attributable to decreased compensation-related costs . the corporate & other segment increased by $ 1.1 million primarily due to increased bad debt expense of $ 600,000 related to one customer at slashdot media and $ 439,000 related to increased professional fees . the finance segment increased $ 650,000 due primarily to increased compensation-related expenses , audit fees and communication costs , partially offset by lower recruitment fees . the healthcare segment increased by $ 626,000 , primarily due to bad debt expense and facilities-related costs . 38 depreciation replace_table_token_12_th depreciation expense for the year ended december 31 , 2015 was $ 9.3 million compared to $ 10.9 million for the same period of 2014 , a decrease of $ 1.6 million or 15.0 % . the decrease was due to lower depreciable fixed assets in the current period . amortization of intangible assets replace_table_token_13_th amortization expense for the year ended december 31 , 2015 was $ 13.9 million compared to $ 16.3 million for the same period in 2014 , a decrease of $ 2.4 million or 14.5 % . amortization expense for the year ended december 31 , 2015 decreased by $ 1.9 million , $ 709,000 and $ 379,000 due to certain intangible assets at health ecareers , rigzone and dice europe , respectively , becoming fully amortized . this decrease in amortization expense was partially offset by an increase of $ 1.3 million due to the oilcareers acquisition , accelerated due to oilcareers ' rebranding to rigzone . impairment of goodwill during the fourth quarter of 2015 , we determined that the goodwill at the energy reporting unit was impaired . the fair value of this reporting unit was determined by a combination of a discounted cash flow methodology and market comparable method . cash flow projections for this reporting unit decreased significantly during the fourth quarter of 2015 due to the decline in demand for energy professionals , which has significantly decreased the use of our energy industry job posting websites and related services . as a result , $ 34.8 million was recorded for the impairment of goodwill . operating income operating income for the year ended december 31 , 2015 was $ 6.4 million compared to $ 46.6 million for the same period in 2014 , a decrease of $ 40.2 million or 86.4 % . the decrease was primarily driven by the impairment of goodwill recorded at energy of $ 34.8 million in 2015. also contributing to the decrease was decreased revenue related to declines in the rigzone business due to difficult macro-environment conditions in the energy market and decreased revenue related to certain revenue streams at slashdot media . partially offsetting this decrease in revenue was an increase at the healthcare and hospitality segments as a result of increased revenues and lower amortization and depreciation expense . additionally , the increase in headcount and compensation-related costs contributed to the decrease in operating income . interest expense replace_table_token_14_th interest expense for the year ended december 31 , 2015 was $ 3.3 million compared to $ 3.7 million for the same period in 2014 , an decrease of $ 0.5 million or 12.2 % . the weighted-average debt outstanding was lower in the year ended december 31 , 2015 as compared to the same period in 2014 , resulting in lower interest expense . 39 income taxes replace_table_token_15_th a reconciliation of the federal statutory tax rate to the effective tax rate on continuing operations applicable to income before income tax expense follows : replace_table_token_16_th the effective income tax rate was 460.7 % and 35.6 % for the years ended december 31 , 2015 and december 31 , 2014 , respectively . the tax rate was higher in the current year because the company recorded a $ 34.8 million charge for impairment of goodwill . of the total impairment , $ 33.6 million related to goodwill for which the company had zero tax basis , and thus represented a permanent non-deductible amount for tax\n",
            "\n"
          ]
        }
      ]
    },
    {
      "cell_type": "code",
      "source": [
        "print(\"Summary: \\n\", summary)"
      ],
      "metadata": {
        "colab": {
          "base_uri": "https://localhost:8080/",
          "height": 69
        },
        "id": "DC34wlbLcCMy",
        "outputId": "4eb9571a-0cb1-4e82-b906-acfb925f0663"
      },
      "execution_count": 36,
      "outputs": [
        {
          "output_type": "display_data",
          "data": {
            "text/plain": [
              "<IPython.core.display.HTML object>"
            ],
            "text/html": [
              "\n",
              "  <style>\n",
              "    pre {\n",
              "        white-space: pre-wrap;\n",
              "    }\n",
              "  </style>\n",
              "  "
            ]
          },
          "metadata": {}
        },
        {
          "output_type": "stream",
          "name": "stdout",
          "text": [
            "Summary: \n",
            " liquidity and capital resources as of december 31, 2015, we had cash, cash equivalents and short-term investments of $ 84.3 million, compared to cash and cash equivalents of $ 86.4 million as of september 31, 2014. the decrease in cash and equivalents was primarily due\n"
          ]
        }
      ]
    },
    {
      "cell_type": "code",
      "source": [
        "input_summary"
      ],
      "metadata": {
        "colab": {
          "base_uri": "https://localhost:8080/",
          "height": 191
        },
        "id": "Ovj11KPaeBdT",
        "outputId": "0639bb4b-d092-4b63-c0f5-ed41c7d113e0"
      },
      "execution_count": 37,
      "outputs": [
        {
          "output_type": "display_data",
          "data": {
            "text/plain": [
              "<IPython.core.display.HTML object>"
            ],
            "text/html": [
              "\n",
              "  <style>\n",
              "    pre {\n",
              "        white-space: pre-wrap;\n",
              "    }\n",
              "  </style>\n",
              "  "
            ]
          },
          "metadata": {}
        },
        {
          "output_type": "execute_result",
          "data": {
            "text/plain": [
              "'liquidity our principal internal sources of liquidity is cash , as well as the cash flow that we generate from our operations . in addition , externally , we had $ 149.0 million in borrowing capacity under our credit agreement at december 31 , 2015 . we believe that our existing cash , cash generated from operations and available borrowings under our credit agreement will be sufficient to satisfy our currently anticipated cash requirements through at least the next 12 months and the foreseeable future thereafter . however , it is possible that one or more lenders under the revolving credit facility may refuse or be unable to satisfy their commitment to lend to us or we may need to refinance our debt and be unable to do so . in addition , our liquidity could be negatively affected by a decrease in demand for our products and services . we may also make acquisitions and may need to raise additional capital through future debt financings or equity offerings to the extent necessary to fund such acquisitions , which we may not be able to do on a timely basis or on terms satisfactory to us or at all . comparison of years ended december 31 , 2015 and 2014 operating activities net cash flows from operating activities primarily consists of net income adjusted for certain non-cash items , including depreciation , amortization , changes in deferred tax assets and liabilities , stock based compensation , impairment of goodwill and the effect of changes in working capital .\\n'"
            ],
            "application/vnd.google.colaboratory.intrinsic+json": {
              "type": "string"
            }
          },
          "metadata": {},
          "execution_count": 37
        }
      ]
    },
    {
      "cell_type": "code",
      "source": [],
      "metadata": {
        "id": "FjIGc1hdeNDB"
      },
      "execution_count": null,
      "outputs": []
    }
  ],
  "metadata": {
    "accelerator": "GPU",
    "colab": {
      "gpuType": "T4",
      "provenance": [],
      "toc_visible": true
    },
    "gpuClass": "standard",
    "kernelspec": {
      "display_name": "Python 3",
      "name": "python3"
    },
    "language_info": {
      "codemirror_mode": {
        "name": "ipython",
        "version": 3
      },
      "file_extension": ".py",
      "mimetype": "text/x-python",
      "name": "python",
      "nbconvert_exporter": "python",
      "pygments_lexer": "ipython3",
      "version": "3.9.0"
    }
  },
  "nbformat": 4,
  "nbformat_minor": 0
}