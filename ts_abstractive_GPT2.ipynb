{
 "cells": [
  {
   "cell_type": "markdown",
   "id": "36137ac9",
   "metadata": {},
   "source": [
    "<a target=\"_blank\" href=\"https://colab.research.google.com/github/https://colab.research.google.com/github/ianuragbhatt/text-summarization/blob/main/ts_abstractive_GPT2.ipynb\">\n",
    "  <img src=\"https://colab.research.google.com/assets/colab-badge.svg\" alt=\"Open In Colab\"/>\n",
    "</a>"
   ]
  },
  {
   "cell_type": "code",
   "execution_count": 1,
   "id": "563e4db0",
   "metadata": {},
   "outputs": [],
   "source": [
    "# !pip install -q transformers datasets -y\n",
    "# !pip install torch\n",
    "# !pip install -q tensorflow-gpu -y\n",
    "# !pip upgrade -q numpy scipy -y "
   ]
  },
  {
   "cell_type": "markdown",
   "id": "ae81ccea",
   "metadata": {},
   "source": [
    "## Importing Libraries"
   ]
  },
  {
   "cell_type": "code",
   "execution_count": 2,
   "id": "87ed6cd1",
   "metadata": {},
   "outputs": [
    {
     "name": "stderr",
     "output_type": "stream",
     "text": [
      "2023-05-12 22:44:43.351900: I tensorflow/core/util/port.cc:110] oneDNN custom operations are on. You may see slightly different numerical results due to floating-point round-off errors from different computation orders. To turn them off, set the environment variable `TF_ENABLE_ONEDNN_OPTS=0`.\n",
      "2023-05-12 22:44:43.513220: I tensorflow/core/platform/cpu_feature_guard.cc:182] This TensorFlow binary is optimized to use available CPU instructions in performance-critical operations.\n",
      "To enable the following instructions: AVX2 AVX_VNNI FMA, in other operations, rebuild TensorFlow with the appropriate compiler flags.\n",
      "2023-05-12 22:44:44.061510: W tensorflow/compiler/tf2tensorrt/utils/py_utils.cc:38] TF-TRT Warning: Could not find TensorRT\n"
     ]
    }
   ],
   "source": [
    "import pandas as pd\n",
    "import numpy as np\n",
    "import torch\n",
    "from transformers import (\n",
    "    GPT2Tokenizer,\n",
    "    GPT2LMHeadModel,\n",
    "    Trainer,\n",
    "    TrainingArguments,\n",
    "    DataCollatorForLanguageModeling,\n",
    "    EarlyStoppingCallback\n",
    ")"
   ]
  },
  {
   "cell_type": "markdown",
   "id": "a924ca61",
   "metadata": {},
   "source": [
    "## Preparing Datasets"
   ]
  },
  {
   "cell_type": "code",
   "execution_count": 3,
   "id": "6ba9b579",
   "metadata": {},
   "outputs": [],
   "source": [
    "# importing datasets \n",
    "data_path = 'assets/datasets/sample_findsum/'\n",
    "train_data_path = data_path + \"sample_findsum_train.csv\"\n",
    "test_data_path = data_path + \"sample_findsum_test.csv\"\n",
    "val_data_path = data_path + \"sample_findsum_val.csv\""
   ]
  },
  {
   "cell_type": "code",
   "execution_count": 4,
   "id": "8d091ddf",
   "metadata": {},
   "outputs": [],
   "source": [
    "# Load datasets\n",
    "train_data = pd.read_csv(train_data_path)\n",
    "test_data = pd.read_csv(test_data_path)\n",
    "val_data = pd.read_csv(val_data_path)"
   ]
  },
  {
   "cell_type": "code",
   "execution_count": 5,
   "id": "918e850a",
   "metadata": {},
   "outputs": [
    {
     "data": {
      "text/plain": [
       "((2500, 2), (200, 2), (200, 2))"
      ]
     },
     "execution_count": 5,
     "metadata": {},
     "output_type": "execute_result"
    }
   ],
   "source": [
    "# checking the shape of datasets\n",
    "train_data.shape, test_data.shape, val_data.shape"
   ]
  },
  {
   "cell_type": "code",
   "execution_count": 11,
   "id": "cec7a63c",
   "metadata": {},
   "outputs": [],
   "source": [
    "# train_dataset = load_dataset(\"csv\", data_files=data_path + \"sample_findsum_train.csv\")\n",
    "# test_dataset = load_dataset(\"csv\", data_files=data_path + \"sample_findsum_test.csv\")\n",
    "# val_dataset = load_dataset(\"csv\", data_files=data_path + \"sample_findsum_val.csv\")"
   ]
  },
  {
   "cell_type": "code",
   "execution_count": 12,
   "id": "3c40198a",
   "metadata": {},
   "outputs": [],
   "source": [
    "# train_dataset, test_dataset, val_dataset"
   ]
  },
  {
   "cell_type": "code",
   "execution_count": 13,
   "id": "ef011b7e",
   "metadata": {},
   "outputs": [],
   "source": [
    "## Tokenize datasets"
   ]
  },
  {
   "cell_type": "code",
   "execution_count": 14,
   "id": "2dd9ac08",
   "metadata": {},
   "outputs": [],
   "source": [
    "# Initialize tokenizer and model\n",
    "tokenizer = GPT2Tokenizer.from_pretrained(\"gpt2\")\n",
    "\n",
    "# tokenizer = GPT2Tokenizer.from_pretrained(\"gpt2\", max_split_size_mb=20)\n",
    "model = GPT2LMHeadModel.from_pretrained(\"gpt2\")\n",
    "tokenizer.pad_token = tokenizer.eos_token"
   ]
  },
  {
   "attachments": {},
   "cell_type": "markdown",
   "id": "c550c128",
   "metadata": {},
   "source": [
    "* You can change `gpt2` with `gpt2-medium` and `gpt2-large` models in `from_pretrained()` function."
   ]
  },
  {
   "cell_type": "code",
   "execution_count": 15,
   "id": "22a0a029",
   "metadata": {},
   "outputs": [],
   "source": [
    "# Define data collator for language modeling\n",
    "data_collator = DataCollatorForLanguageModeling(tokenizer=tokenizer, mlm=False)"
   ]
  },
  {
   "cell_type": "code",
   "execution_count": 16,
   "id": "abda75bd",
   "metadata": {},
   "outputs": [],
   "source": [
    "'''\n",
    "This is a custom PyTorch Dataset class used to create a dataset from the input encodings and labels.\n",
    "\n",
    "    * The __init__ method initializes the encodings and labels data members.\n",
    "    * The __getitem__ method takes an index and returns a dictionary with the input encodings and their corresponding labels at the given index.\n",
    "      It converts the input data to PyTorch tensors before returning.\n",
    "    * The __len__ method returns the length of the dataset.\n",
    "\n",
    "This class can be used with a PyTorch DataLoader to create an iterator that provides batches of data during training or evaluation.\n",
    "'''\n",
    "class Dataset(torch.utils.data.Dataset):\n",
    "    def __init__(self, encodings, labels):\n",
    "        self.encodings = encodings\n",
    "        self.labels = labels\n",
    "\n",
    "    def __getitem__(self, idx):\n",
    "        item = {key: torch.tensor(val[idx]) for key, val in self.encodings.items()}\n",
    "        item['labels'] = torch.tensor(self.labels[idx])\n",
    "        return item\n",
    "\n",
    "    def __len__(self):\n",
    "        return len(self.labels)"
   ]
  },
  {
   "cell_type": "code",
   "execution_count": 17,
   "id": "7bc605b6",
   "metadata": {},
   "outputs": [],
   "source": [
    "# tokenizing training, testing and validation datasets\n",
    "X_train_encodings = tokenizer(list(train_data[\"document\"]), padding=True, truncation=True, max_length=128, return_tensors='pt')\n",
    "y_train_encodings = tokenizer(list(train_data[\"summary\"]), padding=True, truncation=True, max_length=64, return_tensors='pt')\n",
    "\n",
    "X_val_encodings = tokenizer(list(val_data[\"document\"]), padding=True, truncation=True, max_length=128, return_tensors='pt')\n",
    "y_val_encodings = tokenizer(list(val_data[\"summary\"]), padding=True, truncation=True, max_length=64, return_tensors='pt')\n",
    "\n",
    "X_test_encodings = tokenizer(list(test_data[\"document\"]), padding=True, truncation=True, max_length=128, return_tensors='pt')\n",
    "y_test_encodings = tokenizer(list(test_data[\"summary\"]), padding=True, truncation=True, max_length=64, return_tensors='pt')"
   ]
  },
  {
   "cell_type": "code",
   "execution_count": 18,
   "id": "44cffabd",
   "metadata": {},
   "outputs": [],
   "source": [
    "# creating dataset for pytorch\n",
    "training_set = Dataset(X_train_encodings, y_train_encodings['input_ids'])\n",
    "val_set = Dataset(X_val_encodings, y_val_encodings['input_ids'])\n",
    "test_set = Dataset(X_test_encodings, y_test_encodings['input_ids'])"
   ]
  },
  {
   "cell_type": "markdown",
   "id": "3d914265",
   "metadata": {},
   "source": [
    "## Finetuned the GPT-2 Model"
   ]
  },
  {
   "cell_type": "code",
   "execution_count": 19,
   "id": "01f760e1",
   "metadata": {},
   "outputs": [],
   "source": [
    "# !pip install nltk\n",
    "\n",
    "# from nltk.translate.bleu_score import corpus_bleu\n",
    "# from transformers import EvalPrediction\n",
    "\n",
    "# define custom evaluation function\n",
    "# def corpus_bleu(p: EvalPrediction):\n",
    "#     references = [refs for refs in p.label_ids]\n",
    "#     hypotheses = [hyps for hyps in p.predictions]\n",
    "#     bleu_scores = corpus_bleu(references, hypotheses)\n",
    "#     return {\"bleu\": bleu_scores}"
   ]
  },
  {
   "cell_type": "code",
   "execution_count": 20,
   "id": "922a8587",
   "metadata": {},
   "outputs": [],
   "source": [
    "# Define training arguments\n",
    "training_args = TrainingArguments(\n",
    "    output_dir=\"assets/results\",\n",
    "    overwrite_output_dir=True,\n",
    "    num_train_epochs=8,\n",
    "    per_device_train_batch_size=4,\n",
    "    per_device_eval_batch_size=4,\n",
    "    evaluation_strategy='steps',\n",
    "    save_strategy='steps',\n",
    "    eval_steps=500,\n",
    "    save_steps=500,\n",
    "    warmup_steps=500,\n",
    "    logging_dir='assets/logs',\n",
    "    logging_steps=500,\n",
    "    load_best_model_at_end=True,\n",
    "    metric_for_best_model=\"eval_loss\",\n",
    "    greater_is_better=False,\n",
    "    fp16=True # This line enables mixed precision training\n",
    ")"
   ]
  },
  {
   "cell_type": "code",
   "execution_count": 23,
   "id": "73b028b6",
   "metadata": {},
   "outputs": [],
   "source": [
    "# Define trainer\n",
    "trainer = Trainer(\n",
    "    model=model,\n",
    "    args=training_args,\n",
    "    train_dataset=training_set,\n",
    "    eval_dataset=val_set,\n",
    "    data_collator=data_collator,\n",
    "    # callbacks=[EarlyStoppingCallback(patience=4, min_delta=0.01, mode='min')],\n",
    "    # regularization_params={'l2': 0.01}\n",
    "#     compute_metrics=corpus_bleu\n",
    ")"
   ]
  },
  {
   "cell_type": "code",
   "execution_count": 24,
   "id": "cb03952a",
   "metadata": {},
   "outputs": [
    {
     "name": "stderr",
     "output_type": "stream",
     "text": [
      "/home/u1528082/miniconda3/envs/tf2/lib/python3.9/site-packages/transformers/optimization.py:391: FutureWarning: This implementation of AdamW is deprecated and will be removed in a future version. Use the PyTorch implementation torch.optim.AdamW instead, or set `no_deprecation_warning=True` to disable this warning\n",
      "  warnings.warn(\n"
     ]
    },
    {
     "data": {
      "application/vnd.jupyter.widget-view+json": {
       "model_id": "13a721b6502d4e3cac1ea71776cb1e0b",
       "version_major": 2,
       "version_minor": 0
      },
      "text/plain": [
       "  0%|          | 0/5000 [00:00<?, ?it/s]"
      ]
     },
     "metadata": {},
     "output_type": "display_data"
    },
    {
     "name": "stderr",
     "output_type": "stream",
     "text": [
      "/tmp/ipykernel_4469/3293725077.py:17: UserWarning: To copy construct from a tensor, it is recommended to use sourceTensor.clone().detach() or sourceTensor.clone().detach().requires_grad_(True), rather than torch.tensor(sourceTensor).\n",
      "  item = {key: torch.tensor(val[idx]) for key, val in self.encodings.items()}\n",
      "/tmp/ipykernel_4469/3293725077.py:18: UserWarning: To copy construct from a tensor, it is recommended to use sourceTensor.clone().detach() or sourceTensor.clone().detach().requires_grad_(True), rather than torch.tensor(sourceTensor).\n",
      "  item['labels'] = torch.tensor(self.labels[idx])\n"
     ]
    },
    {
     "name": "stdout",
     "output_type": "stream",
     "text": [
      "{'loss': 3.4776, 'learning_rate': 4.97e-05, 'epoch': 0.8}\n"
     ]
    },
    {
     "data": {
      "application/vnd.jupyter.widget-view+json": {
       "model_id": "1d9c3daffc2a406789edad4679565d7c",
       "version_major": 2,
       "version_minor": 0
      },
      "text/plain": [
       "  0%|          | 0/50 [00:00<?, ?it/s]"
      ]
     },
     "metadata": {},
     "output_type": "display_data"
    },
    {
     "name": "stdout",
     "output_type": "stream",
     "text": [
      "{'eval_loss': 3.135319232940674, 'eval_runtime': 0.8975, 'eval_samples_per_second': 222.838, 'eval_steps_per_second': 55.71, 'epoch': 0.8}\n"
     ]
    },
    {
     "name": "stderr",
     "output_type": "stream",
     "text": [
      "/tmp/ipykernel_4469/3293725077.py:17: UserWarning: To copy construct from a tensor, it is recommended to use sourceTensor.clone().detach() or sourceTensor.clone().detach().requires_grad_(True), rather than torch.tensor(sourceTensor).\n",
      "  item = {key: torch.tensor(val[idx]) for key, val in self.encodings.items()}\n",
      "/tmp/ipykernel_4469/3293725077.py:18: UserWarning: To copy construct from a tensor, it is recommended to use sourceTensor.clone().detach() or sourceTensor.clone().detach().requires_grad_(True), rather than torch.tensor(sourceTensor).\n",
      "  item['labels'] = torch.tensor(self.labels[idx])\n"
     ]
    },
    {
     "name": "stdout",
     "output_type": "stream",
     "text": [
      "{'loss': 3.0804, 'learning_rate': 4.447777777777778e-05, 'epoch': 1.6}\n"
     ]
    },
    {
     "data": {
      "application/vnd.jupyter.widget-view+json": {
       "model_id": "fed50319cb8f4e58989f80a2f56c51f1",
       "version_major": 2,
       "version_minor": 0
      },
      "text/plain": [
       "  0%|          | 0/50 [00:00<?, ?it/s]"
      ]
     },
     "metadata": {},
     "output_type": "display_data"
    },
    {
     "name": "stdout",
     "output_type": "stream",
     "text": [
      "{'eval_loss': 3.045097589492798, 'eval_runtime': 0.8619, 'eval_samples_per_second': 232.055, 'eval_steps_per_second': 58.014, 'epoch': 1.6}\n"
     ]
    },
    {
     "name": "stderr",
     "output_type": "stream",
     "text": [
      "/tmp/ipykernel_4469/3293725077.py:17: UserWarning: To copy construct from a tensor, it is recommended to use sourceTensor.clone().detach() or sourceTensor.clone().detach().requires_grad_(True), rather than torch.tensor(sourceTensor).\n",
      "  item = {key: torch.tensor(val[idx]) for key, val in self.encodings.items()}\n",
      "/tmp/ipykernel_4469/3293725077.py:18: UserWarning: To copy construct from a tensor, it is recommended to use sourceTensor.clone().detach() or sourceTensor.clone().detach().requires_grad_(True), rather than torch.tensor(sourceTensor).\n",
      "  item['labels'] = torch.tensor(self.labels[idx])\n"
     ]
    },
    {
     "name": "stdout",
     "output_type": "stream",
     "text": [
      "{'loss': 2.8643, 'learning_rate': 3.892222222222223e-05, 'epoch': 2.4}\n"
     ]
    },
    {
     "data": {
      "application/vnd.jupyter.widget-view+json": {
       "model_id": "be5bf48a9cb241efb9e9609acac1f887",
       "version_major": 2,
       "version_minor": 0
      },
      "text/plain": [
       "  0%|          | 0/50 [00:00<?, ?it/s]"
      ]
     },
     "metadata": {},
     "output_type": "display_data"
    },
    {
     "name": "stdout",
     "output_type": "stream",
     "text": [
      "{'eval_loss': 3.026115655899048, 'eval_runtime': 0.8654, 'eval_samples_per_second': 231.097, 'eval_steps_per_second': 57.774, 'epoch': 2.4}\n"
     ]
    },
    {
     "name": "stderr",
     "output_type": "stream",
     "text": [
      "/tmp/ipykernel_4469/3293725077.py:17: UserWarning: To copy construct from a tensor, it is recommended to use sourceTensor.clone().detach() or sourceTensor.clone().detach().requires_grad_(True), rather than torch.tensor(sourceTensor).\n",
      "  item = {key: torch.tensor(val[idx]) for key, val in self.encodings.items()}\n",
      "/tmp/ipykernel_4469/3293725077.py:18: UserWarning: To copy construct from a tensor, it is recommended to use sourceTensor.clone().detach() or sourceTensor.clone().detach().requires_grad_(True), rather than torch.tensor(sourceTensor).\n",
      "  item['labels'] = torch.tensor(self.labels[idx])\n"
     ]
    },
    {
     "name": "stdout",
     "output_type": "stream",
     "text": [
      "{'loss': 2.6933, 'learning_rate': 3.336666666666667e-05, 'epoch': 3.2}\n"
     ]
    },
    {
     "data": {
      "application/vnd.jupyter.widget-view+json": {
       "model_id": "1dc4dbc47d124c3d9cf72bee81cbec03",
       "version_major": 2,
       "version_minor": 0
      },
      "text/plain": [
       "  0%|          | 0/50 [00:00<?, ?it/s]"
      ]
     },
     "metadata": {},
     "output_type": "display_data"
    },
    {
     "name": "stdout",
     "output_type": "stream",
     "text": [
      "{'eval_loss': 3.036414861679077, 'eval_runtime': 0.8694, 'eval_samples_per_second': 230.037, 'eval_steps_per_second': 57.509, 'epoch': 3.2}\n"
     ]
    },
    {
     "name": "stderr",
     "output_type": "stream",
     "text": [
      "/tmp/ipykernel_4469/3293725077.py:17: UserWarning: To copy construct from a tensor, it is recommended to use sourceTensor.clone().detach() or sourceTensor.clone().detach().requires_grad_(True), rather than torch.tensor(sourceTensor).\n",
      "  item = {key: torch.tensor(val[idx]) for key, val in self.encodings.items()}\n",
      "/tmp/ipykernel_4469/3293725077.py:18: UserWarning: To copy construct from a tensor, it is recommended to use sourceTensor.clone().detach() or sourceTensor.clone().detach().requires_grad_(True), rather than torch.tensor(sourceTensor).\n",
      "  item['labels'] = torch.tensor(self.labels[idx])\n"
     ]
    },
    {
     "name": "stdout",
     "output_type": "stream",
     "text": [
      "{'loss': 2.5726, 'learning_rate': 2.781111111111111e-05, 'epoch': 4.0}\n"
     ]
    },
    {
     "data": {
      "application/vnd.jupyter.widget-view+json": {
       "model_id": "d6589465fbc2467f9fb17ee5838430d6",
       "version_major": 2,
       "version_minor": 0
      },
      "text/plain": [
       "  0%|          | 0/50 [00:00<?, ?it/s]"
      ]
     },
     "metadata": {},
     "output_type": "display_data"
    },
    {
     "name": "stdout",
     "output_type": "stream",
     "text": [
      "{'eval_loss': 3.022698402404785, 'eval_runtime': 0.8786, 'eval_samples_per_second': 227.628, 'eval_steps_per_second': 56.907, 'epoch': 4.0}\n"
     ]
    },
    {
     "name": "stderr",
     "output_type": "stream",
     "text": [
      "/tmp/ipykernel_4469/3293725077.py:17: UserWarning: To copy construct from a tensor, it is recommended to use sourceTensor.clone().detach() or sourceTensor.clone().detach().requires_grad_(True), rather than torch.tensor(sourceTensor).\n",
      "  item = {key: torch.tensor(val[idx]) for key, val in self.encodings.items()}\n",
      "/tmp/ipykernel_4469/3293725077.py:18: UserWarning: To copy construct from a tensor, it is recommended to use sourceTensor.clone().detach() or sourceTensor.clone().detach().requires_grad_(True), rather than torch.tensor(sourceTensor).\n",
      "  item['labels'] = torch.tensor(self.labels[idx])\n"
     ]
    },
    {
     "name": "stdout",
     "output_type": "stream",
     "text": [
      "{'loss': 2.4214, 'learning_rate': 2.225555555555556e-05, 'epoch': 4.8}\n"
     ]
    },
    {
     "data": {
      "application/vnd.jupyter.widget-view+json": {
       "model_id": "cbc3b884491c491b8faed2938ef20c9b",
       "version_major": 2,
       "version_minor": 0
      },
      "text/plain": [
       "  0%|          | 0/50 [00:00<?, ?it/s]"
      ]
     },
     "metadata": {},
     "output_type": "display_data"
    },
    {
     "name": "stdout",
     "output_type": "stream",
     "text": [
      "{'eval_loss': 3.050544500350952, 'eval_runtime': 0.8518, 'eval_samples_per_second': 234.791, 'eval_steps_per_second': 58.698, 'epoch': 4.8}\n"
     ]
    },
    {
     "name": "stderr",
     "output_type": "stream",
     "text": [
      "/tmp/ipykernel_4469/3293725077.py:17: UserWarning: To copy construct from a tensor, it is recommended to use sourceTensor.clone().detach() or sourceTensor.clone().detach().requires_grad_(True), rather than torch.tensor(sourceTensor).\n",
      "  item = {key: torch.tensor(val[idx]) for key, val in self.encodings.items()}\n",
      "/tmp/ipykernel_4469/3293725077.py:18: UserWarning: To copy construct from a tensor, it is recommended to use sourceTensor.clone().detach() or sourceTensor.clone().detach().requires_grad_(True), rather than torch.tensor(sourceTensor).\n",
      "  item['labels'] = torch.tensor(self.labels[idx])\n"
     ]
    },
    {
     "name": "stdout",
     "output_type": "stream",
     "text": [
      "{'loss': 2.3313, 'learning_rate': 1.6700000000000003e-05, 'epoch': 5.6}\n"
     ]
    },
    {
     "data": {
      "application/vnd.jupyter.widget-view+json": {
       "model_id": "05b3100050fc43e29286b807e884294a",
       "version_major": 2,
       "version_minor": 0
      },
      "text/plain": [
       "  0%|          | 0/50 [00:00<?, ?it/s]"
      ]
     },
     "metadata": {},
     "output_type": "display_data"
    },
    {
     "name": "stdout",
     "output_type": "stream",
     "text": [
      "{'eval_loss': 3.0914905071258545, 'eval_runtime': 0.8768, 'eval_samples_per_second': 228.112, 'eval_steps_per_second': 57.028, 'epoch': 5.6}\n"
     ]
    },
    {
     "name": "stderr",
     "output_type": "stream",
     "text": [
      "/tmp/ipykernel_4469/3293725077.py:17: UserWarning: To copy construct from a tensor, it is recommended to use sourceTensor.clone().detach() or sourceTensor.clone().detach().requires_grad_(True), rather than torch.tensor(sourceTensor).\n",
      "  item = {key: torch.tensor(val[idx]) for key, val in self.encodings.items()}\n",
      "/tmp/ipykernel_4469/3293725077.py:18: UserWarning: To copy construct from a tensor, it is recommended to use sourceTensor.clone().detach() or sourceTensor.clone().detach().requires_grad_(True), rather than torch.tensor(sourceTensor).\n",
      "  item['labels'] = torch.tensor(self.labels[idx])\n"
     ]
    },
    {
     "name": "stdout",
     "output_type": "stream",
     "text": [
      "{'loss': 2.2732, 'learning_rate': 1.1144444444444445e-05, 'epoch': 6.4}\n"
     ]
    },
    {
     "data": {
      "application/vnd.jupyter.widget-view+json": {
       "model_id": "c7e9011eed21477fa71c75062b155b30",
       "version_major": 2,
       "version_minor": 0
      },
      "text/plain": [
       "  0%|          | 0/50 [00:00<?, ?it/s]"
      ]
     },
     "metadata": {},
     "output_type": "display_data"
    },
    {
     "name": "stdout",
     "output_type": "stream",
     "text": [
      "{'eval_loss': 3.104268789291382, 'eval_runtime': 0.8779, 'eval_samples_per_second': 227.808, 'eval_steps_per_second': 56.952, 'epoch': 6.4}\n"
     ]
    },
    {
     "name": "stderr",
     "output_type": "stream",
     "text": [
      "/tmp/ipykernel_4469/3293725077.py:17: UserWarning: To copy construct from a tensor, it is recommended to use sourceTensor.clone().detach() or sourceTensor.clone().detach().requires_grad_(True), rather than torch.tensor(sourceTensor).\n",
      "  item = {key: torch.tensor(val[idx]) for key, val in self.encodings.items()}\n",
      "/tmp/ipykernel_4469/3293725077.py:18: UserWarning: To copy construct from a tensor, it is recommended to use sourceTensor.clone().detach() or sourceTensor.clone().detach().requires_grad_(True), rather than torch.tensor(sourceTensor).\n",
      "  item['labels'] = torch.tensor(self.labels[idx])\n"
     ]
    },
    {
     "name": "stdout",
     "output_type": "stream",
     "text": [
      "{'loss': 2.2244, 'learning_rate': 5.600000000000001e-06, 'epoch': 7.2}\n"
     ]
    },
    {
     "data": {
      "application/vnd.jupyter.widget-view+json": {
       "model_id": "90c5ca613711444ebe903d6c64448c07",
       "version_major": 2,
       "version_minor": 0
      },
      "text/plain": [
       "  0%|          | 0/50 [00:00<?, ?it/s]"
      ]
     },
     "metadata": {},
     "output_type": "display_data"
    },
    {
     "name": "stdout",
     "output_type": "stream",
     "text": [
      "{'eval_loss': 3.1197521686553955, 'eval_runtime': 0.8844, 'eval_samples_per_second': 226.141, 'eval_steps_per_second': 56.535, 'epoch': 7.2}\n"
     ]
    },
    {
     "name": "stderr",
     "output_type": "stream",
     "text": [
      "/tmp/ipykernel_4469/3293725077.py:17: UserWarning: To copy construct from a tensor, it is recommended to use sourceTensor.clone().detach() or sourceTensor.clone().detach().requires_grad_(True), rather than torch.tensor(sourceTensor).\n",
      "  item = {key: torch.tensor(val[idx]) for key, val in self.encodings.items()}\n",
      "/tmp/ipykernel_4469/3293725077.py:18: UserWarning: To copy construct from a tensor, it is recommended to use sourceTensor.clone().detach() or sourceTensor.clone().detach().requires_grad_(True), rather than torch.tensor(sourceTensor).\n",
      "  item['labels'] = torch.tensor(self.labels[idx])\n"
     ]
    },
    {
     "name": "stdout",
     "output_type": "stream",
     "text": [
      "{'loss': 2.1787, 'learning_rate': 4.444444444444445e-08, 'epoch': 8.0}\n"
     ]
    },
    {
     "data": {
      "application/vnd.jupyter.widget-view+json": {
       "model_id": "50cccea0fada4255a5cb8c73207141ab",
       "version_major": 2,
       "version_minor": 0
      },
      "text/plain": [
       "  0%|          | 0/50 [00:00<?, ?it/s]"
      ]
     },
     "metadata": {},
     "output_type": "display_data"
    },
    {
     "name": "stdout",
     "output_type": "stream",
     "text": [
      "{'eval_loss': 3.1243696212768555, 'eval_runtime': 0.8808, 'eval_samples_per_second': 227.068, 'eval_steps_per_second': 56.767, 'epoch': 8.0}\n",
      "{'train_runtime': 437.1521, 'train_samples_per_second': 45.751, 'train_steps_per_second': 11.438, 'train_loss': 2.6117223876953126, 'epoch': 8.0}\n"
     ]
    },
    {
     "data": {
      "text/plain": [
       "TrainOutput(global_step=5000, training_loss=2.6117223876953126, metrics={'train_runtime': 437.1521, 'train_samples_per_second': 45.751, 'train_steps_per_second': 11.438, 'train_loss': 2.6117223876953126, 'epoch': 8.0})"
      ]
     },
     "execution_count": 24,
     "metadata": {},
     "output_type": "execute_result"
    }
   ],
   "source": [
    "# Fine-tune the model\n",
    "trainer.train()\n",
    "\n",
    "# free up GPU memory\n",
    "# del train_data, val_data, trainer, model, tokenizer\n",
    "# del train_data, val_data, model, tokenizer\n",
    "# torch.cuda.empty_cache()"
   ]
  },
  {
   "cell_type": "code",
   "execution_count": 25,
   "id": "f22a53e8",
   "metadata": {},
   "outputs": [
    {
     "name": "stderr",
     "output_type": "stream",
     "text": [
      "/tmp/ipykernel_4469/3293725077.py:17: UserWarning: To copy construct from a tensor, it is recommended to use sourceTensor.clone().detach() or sourceTensor.clone().detach().requires_grad_(True), rather than torch.tensor(sourceTensor).\n",
      "  item = {key: torch.tensor(val[idx]) for key, val in self.encodings.items()}\n",
      "/tmp/ipykernel_4469/3293725077.py:18: UserWarning: To copy construct from a tensor, it is recommended to use sourceTensor.clone().detach() or sourceTensor.clone().detach().requires_grad_(True), rather than torch.tensor(sourceTensor).\n",
      "  item['labels'] = torch.tensor(self.labels[idx])\n"
     ]
    },
    {
     "data": {
      "application/vnd.jupyter.widget-view+json": {
       "model_id": "c33bef57e8f64df9911d12066ee87fdd",
       "version_major": 2,
       "version_minor": 0
      },
      "text/plain": [
       "  0%|          | 0/50 [00:00<?, ?it/s]"
      ]
     },
     "metadata": {},
     "output_type": "display_data"
    },
    {
     "data": {
      "text/plain": [
       "{'eval_loss': 3.0599429607391357,\n",
       " 'eval_runtime': 0.8777,\n",
       " 'eval_samples_per_second': 227.873,\n",
       " 'eval_steps_per_second': 56.968,\n",
       " 'epoch': 8.0}"
      ]
     },
     "execution_count": 25,
     "metadata": {},
     "output_type": "execute_result"
    }
   ],
   "source": [
    "# Evaluate the model on the test dataset\n",
    "trainer.evaluate(test_set)"
   ]
  },
  {
   "cell_type": "code",
   "execution_count": 26,
   "id": "7a6bd775",
   "metadata": {},
   "outputs": [],
   "source": [
    "# Save the model and tokenizer\n",
    "tokenizer.save_pretrained(\"assets/finetuned_gpt2_model\")\n",
    "model.save_pretrained(\"assets/finetuned_gpt2_model\")"
   ]
  },
  {
   "cell_type": "markdown",
   "id": "bc15df58",
   "metadata": {},
   "source": [
    "## Check BLEU Score of test dataset\n",
    "* We will use BLEU Score and see how good our model is generating summarization.\n",
    "* I will use `corpus_bleu` from `nltk` so, that I will get one `bleu_score` of whole test dataset."
   ]
  },
  {
   "cell_type": "code",
   "execution_count": 27,
   "id": "88a78b23",
   "metadata": {},
   "outputs": [],
   "source": [
    "# load required libraries\n",
    "import pandas as pd\n",
    "from nltk.translate.bleu_score import corpus_bleu\n",
    "import torch\n",
    "from transformers import GPT2LMHeadModel, GPT2Tokenizer\n",
    "from tqdm.notebook import tqdm"
   ]
  },
  {
   "cell_type": "code",
   "execution_count": 28,
   "id": "edb89240",
   "metadata": {},
   "outputs": [],
   "source": [
    "# load test dataset\n",
    "data_path = 'assets/datasets/sample_findsum/'\n",
    "test_data_path = data_path + \"sample_findsum_test.csv\"\n",
    "test_df = pd.read_csv(test_data_path)"
   ]
  },
  {
   "cell_type": "code",
   "execution_count": 29,
   "id": "5c43d4d2",
   "metadata": {},
   "outputs": [],
   "source": [
    "# define path to saved model\n",
    "# model_path = \"assets/finetuned_gpt2_model\"\n",
    "model_path = \"gpt2\""
   ]
  },
  {
   "cell_type": "code",
   "execution_count": 30,
   "id": "998f21dd",
   "metadata": {},
   "outputs": [],
   "source": [
    "# Use GPU if available, otherwise use CPU\n",
    "device = torch.device('cuda' if torch.cuda.is_available() else 'cpu')\n",
    "\n",
    "# initialize the tokenizer and model\n",
    "tokenizer = GPT2Tokenizer.from_pretrained(model_path)\n",
    "model = GPT2LMHeadModel.from_pretrained(model_path).to(device)\n",
    "\n",
    "# set the padding token to the end-of-sequence token\n",
    "tokenizer.pad_token = tokenizer.eos_token"
   ]
  },
  {
   "cell_type": "code",
   "execution_count": 31,
   "id": "0db2c5cd",
   "metadata": {},
   "outputs": [],
   "source": [
    "def predict_summary(model, tokenizer, text):\n",
    "    # encode the input sequence to a maximum length of 512 tokens\n",
    "\n",
    "    inputs = tokenizer.encode_plus(\n",
    "        text, max_length=128, truncation=True, padding=True, return_tensors='pt').to(device)\n",
    "    # generate the summary using the model\n",
    "    summary_ids = model.generate(\n",
    "        inputs['input_ids'],\n",
    "        max_length=129,\n",
    "        num_beams=4,\n",
    "        no_repeat_ngram_size=2,\n",
    "        early_stopping=True,\n",
    "        attention_mask=inputs['attention_mask'],\n",
    "        pad_token_id=tokenizer.eos_token_id\n",
    "    )\n",
    "    \n",
    "    # decode the summary tokens\n",
    "    summary = tokenizer.decode(summary_ids.squeeze(), skip_special_tokens=True)\n",
    "    \n",
    "    # decode the input tokens\n",
    "    decoded_inputs = tokenizer.decode(inputs['input_ids'][0])\n",
    "    return decoded_inputs"
   ]
  },
  {
   "cell_type": "code",
   "execution_count": 32,
   "id": "ad42aecb",
   "metadata": {},
   "outputs": [
    {
     "data": {
      "application/vnd.jupyter.widget-view+json": {
       "model_id": "ca159a83e6e7419894a5fd2fdf171318",
       "version_major": 2,
       "version_minor": 0
      },
      "text/plain": [
       "  0%|          | 0/200 [00:00<?, ?it/s]"
      ]
     },
     "metadata": {},
     "output_type": "display_data"
    }
   ],
   "source": [
    "from tqdm.notebook import tqdm\n",
    "# tokenize the reference and predicted summaries\n",
    "ref_summaries = [[ref] for ref in test_df['summary'].tolist()]\n",
    "pred_summaries = [predict_summary(model, tokenizer, text) for text in tqdm(test_df['document'].tolist())]\n",
    "pred_summaries = [[pred] for pred in pred_summaries]"
   ]
  },
  {
   "cell_type": "code",
   "execution_count": 33,
   "id": "fdddf6d8",
   "metadata": {},
   "outputs": [
    {
     "name": "stdout",
     "output_type": "stream",
     "text": [
      "BLEU score: 0\n"
     ]
    }
   ],
   "source": [
    "# calculate the BLEU score\n",
    "bleu_score = corpus_bleu(ref_summaries, pred_summaries)\n",
    "print(f\"BLEU score: {bleu_score}\")"
   ]
  },
  {
   "attachments": {},
   "cell_type": "markdown",
   "id": "56280d8d",
   "metadata": {},
   "source": [
    "## Generating paragraph summary"
   ]
  },
  {
   "cell_type": "code",
   "execution_count": 34,
   "id": "971a99e8",
   "metadata": {},
   "outputs": [],
   "source": [
    "from nltk.translate.bleu_score import sentence_bleu, SmoothingFunction\n",
    "\n",
    "def compute_bleu_score(preds, targets):\n",
    "    bleu_scores = []\n",
    "    smoothing_func = SmoothingFunction().method1\n",
    "    for pred, target in zip(preds, targets):\n",
    "        pred = pred.replace('<s>', '').replace('</s>', '').strip()\n",
    "        target = target.replace('<s>', '').replace('</s>', '').strip()\n",
    "        pred_tokens = pred.split()\n",
    "        target_tokens = target.split()\n",
    "        bleu_score = sentence_bleu([target_tokens], pred_tokens, smoothing_function=smoothing_func)\n",
    "        bleu_scores.append(bleu_score)\n",
    "    avg_bleu_score = sum(bleu_scores) / len(bleu_scores)\n",
    "    return {'bleu_score': avg_bleu_score}\n"
   ]
  },
  {
   "cell_type": "code",
   "execution_count": 35,
   "id": "a4f69b56",
   "metadata": {},
   "outputs": [],
   "source": [
    "input_text = '''\n",
    "\"on september 5 , 2012 , we acquired tog , a precision machined metal and alloy parts provider to original \n",
    "equipment manufacturers for the steam and natural gas turbine power generation market.\n",
    "the addition of koontz-wagner 's engineered packaged control house solutions expanded our \n",
    "products portfolio to our current customers , and supports the global expansion into \n",
    "adjacent markets such as oil and gas pipelines . the acquisition of tog expanded our \n",
    "products portfolio to serve the steam turbine market and , combined with our consolidated \n",
    "fabricators business unit , established a growth platform for aftermarket energy parts sales .\n",
    "the tog repair and replacement parts business provides a relatively stable revenue stream .\n",
    "the financial results of the koontz-wagner acquisition and the tog acquisition have been included\n",
    "in our product solutions segment .\n",
    "'''"
   ]
  },
  {
   "cell_type": "code",
   "execution_count": 36,
   "id": "e17975a9",
   "metadata": {},
   "outputs": [],
   "source": [
    "input_ids = tokenizer.encode(input_text, return_tensors='pt').to(device)"
   ]
  },
  {
   "cell_type": "code",
   "execution_count": 37,
   "id": "03339aa3",
   "metadata": {},
   "outputs": [
    {
     "name": "stderr",
     "output_type": "stream",
     "text": [
      "The attention mask and the pad token id were not set. As a consequence, you may observe unexpected behavior. Please pass your input's `attention_mask` to obtain reliable results.\n",
      "Setting `pad_token_id` to `eos_token_id`:50256 for open-end generation.\n",
      "Input length of input_ids is 177, but `max_length` is set to 100. This can lead to unexpected behavior. You should consider increasing `max_new_tokens`.\n"
     ]
    }
   ],
   "source": [
    "summary_ids = model.generate(input_ids, max_length=100, do_sample=False).to(device)"
   ]
  },
  {
   "cell_type": "code",
   "execution_count": 38,
   "id": "0450acc0",
   "metadata": {},
   "outputs": [],
   "source": [
    "summary = tokenizer.decode(summary_ids[0], skip_special_tokens=True)"
   ]
  },
  {
   "cell_type": "code",
   "execution_count": 39,
   "id": "c8c9a6e8",
   "metadata": {},
   "outputs": [
    {
     "name": "stdout",
     "output_type": "stream",
     "text": [
      "BLEU Score:  0.008458173528027359 \n",
      "\n",
      "Paragraph: \n",
      " \n",
      "\"on september 5 , 2012 , we acquired tog , a precision machined metal and alloy parts provider to original \n",
      "equipment manufacturers for the steam and natural gas turbine power generation market.\n",
      "the addition of koontz-wagner 's engineered packaged control house solutions expanded our \n",
      "products portfolio to our current customers , and supports the global expansion into \n",
      "adjacent markets such as oil and gas pipelines . the acquisition of tog expanded our \n",
      "products portfolio to serve the steam turbine market and , combined with our consolidated \n",
      "fabricators business unit , established a growth platform for aftermarket energy parts sales .\n",
      "the tog repair and replacement parts business provides a relatively stable revenue stream .\n",
      "the financial results of the koontz-wagner acquisition and the tog acquisition have been included\n",
      "in our product solutions segment .\n",
      "\n",
      "Summary: \n",
      " \n",
      "\"on september 5, 2012, we acquired tog, a precision machined metal and alloy parts provider to original \n",
      "equipment manufacturers for the steam and natural gas turbine power generation market.\n",
      "the addition of koontz-wagner's engineered packaged control house solutions expanded our \n",
      "products portfolio to our current customers, and supports the global expansion into \n",
      "adjacent markets such as oil and gas pipelines. the acquisition of tog expanded our \n",
      "products portfolio to serve the steam turbine market and, combined with our consolidated \n",
      "fabricators business unit, established a growth platform for aftermarket energy parts sales.\n",
      "the tog repair and replacement parts business provides a relatively stable revenue stream.\n",
      "the financial results of the koontz-wagner acquisition and the tog acquisition have been included\n",
      "in our product solutions segment.\n",
      "the\n"
     ]
    }
   ],
   "source": [
    "print(\"BLEU Score: \", compute_bleu_score(input_text, summary)[\"bleu_score\"], \"\\n\")\n",
    "print(\"Paragraph: \\n\", input_text)\n",
    "print(\"Summary: \\n\", summary)"
   ]
  },
  {
   "attachments": {},
   "cell_type": "markdown",
   "id": "543ce938",
   "metadata": {},
   "source": [
    "## Conclusion\n",
    "* GPT2 finedtuned and without finetuning is not working well on `FindSum` dataset."
   ]
  },
  {
   "cell_type": "markdown",
   "id": "e1bb2856",
   "metadata": {},
   "source": []
  }
 ],
 "metadata": {
  "kernelspec": {
   "display_name": "Python 3 (ipykernel)",
   "language": "python",
   "name": "python3"
  },
  "language_info": {
   "codemirror_mode": {
    "name": "ipython",
    "version": 3
   },
   "file_extension": ".py",
   "mimetype": "text/x-python",
   "name": "python",
   "nbconvert_exporter": "python",
   "pygments_lexer": "ipython3",
   "version": "3.9.0"
  }
 },
 "nbformat": 4,
 "nbformat_minor": 5
}
