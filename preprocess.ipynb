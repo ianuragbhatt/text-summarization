{
 "cells": [
  {
   "cell_type": "code",
   "execution_count": 1,
   "id": "ffb69f00",
   "metadata": {},
   "outputs": [],
   "source": [
    "import pandas as pd"
   ]
  },
  {
   "cell_type": "code",
   "execution_count": 13,
   "id": "8cfa144e",
   "metadata": {},
   "outputs": [],
   "source": [
    "data_path = 'findsum/text-20230510T070655Z-001/text/FINDSum-Liquidity/liquidity_input_2000/'\n",
    "\n",
    "train_path = 'train_liquidity_segment_0_input_2_1000.csv'\n",
    "test_path = 'test_liquidity_segment_0_input_2_1000.csv'\n",
    "val_path = 'val_liquidity_segment_0_input_2_1000.csv'"
   ]
  },
  {
   "cell_type": "code",
   "execution_count": 14,
   "id": "785b05b0",
   "metadata": {},
   "outputs": [],
   "source": [
    "train_df = pd.read_csv(data_path+train_path)\n",
    "test_df = pd.read_csv(data_path + test_path)\n",
    "val_df = pd.read_csv(data_path + val_path)"
   ]
  },
  {
   "cell_type": "code",
   "execution_count": 15,
   "id": "411c40ae",
   "metadata": {},
   "outputs": [
    {
     "data": {
      "text/html": [
       "<div>\n",
       "<style scoped>\n",
       "    .dataframe tbody tr th:only-of-type {\n",
       "        vertical-align: middle;\n",
       "    }\n",
       "\n",
       "    .dataframe tbody tr th {\n",
       "        vertical-align: top;\n",
       "    }\n",
       "\n",
       "    .dataframe thead th {\n",
       "        text-align: right;\n",
       "    }\n",
       "</style>\n",
       "<table border=\"1\" class=\"dataframe\">\n",
       "  <thead>\n",
       "    <tr style=\"text-align: right;\">\n",
       "      <th></th>\n",
       "      <th>document</th>\n",
       "      <th>summary</th>\n",
       "    </tr>\n",
       "  </thead>\n",
       "  <tbody>\n",
       "    <tr>\n",
       "      <th>0</th>\n",
       "      <td>gross profit for plant nutrition north america...</td>\n",
       "      <td>capital resources we believe our primary sourc...</td>\n",
       "    </tr>\n",
       "    <tr>\n",
       "      <th>1</th>\n",
       "      <td>the european commission , or ec , has granted ...</td>\n",
       "      <td>liquidity and capital resources from our incep...</td>\n",
       "    </tr>\n",
       "    <tr>\n",
       "      <th>2</th>\n",
       "      <td>in 2012 the fulfill program generated $ 1.4 mi...</td>\n",
       "      <td>liquidity and capital resources cash flows pro...</td>\n",
       "    </tr>\n",
       "    <tr>\n",
       "      <th>3</th>\n",
       "      <td>combined sales to academic and governmental cu...</td>\n",
       "      <td>cash flow from operating activities net cash p...</td>\n",
       "    </tr>\n",
       "    <tr>\n",
       "      <th>4</th>\n",
       "      <td>the timing and amount of these investments var...</td>\n",
       "      <td>cash flows the following table sets forth data...</td>\n",
       "    </tr>\n",
       "  </tbody>\n",
       "</table>\n",
       "</div>"
      ],
      "text/plain": [
       "                                            document  \\\n",
       "0  gross profit for plant nutrition north america...   \n",
       "1  the european commission , or ec , has granted ...   \n",
       "2  in 2012 the fulfill program generated $ 1.4 mi...   \n",
       "3  combined sales to academic and governmental cu...   \n",
       "4  the timing and amount of these investments var...   \n",
       "\n",
       "                                             summary  \n",
       "0  capital resources we believe our primary sourc...  \n",
       "1  liquidity and capital resources from our incep...  \n",
       "2  liquidity and capital resources cash flows pro...  \n",
       "3  cash flow from operating activities net cash p...  \n",
       "4  cash flows the following table sets forth data...  "
      ]
     },
     "execution_count": 15,
     "metadata": {},
     "output_type": "execute_result"
    }
   ],
   "source": [
    "train_df.head()"
   ]
  },
  {
   "cell_type": "code",
   "execution_count": 16,
   "id": "162bc8b8",
   "metadata": {},
   "outputs": [
    {
     "data": {
      "text/plain": [
       "\"gross profit for plant nutrition north america was favorably impacted by higher sales volumes and lower per-unit product costs , which were partially offset by increased per-unit shipping and handling costs and higher depreciation expense during 2017. a $ 61.6 million decrease in salt segment gross margin partially offset the combined plant nutrition business ' increase . the decrease resulted from lower sales volumes , increased per-unit product and increased shipping and handling costs , and higher depreciation expense . gross profit & gross margin commentary : 2015 – 2016 gross profit : decreased 9 % , or $ 30.6 million ; gross margin decreased 4 percentage points to 26 % from 30 % salt gross profit declined $ 17.1 million primarily due to reduced sales prices and higher per-unit production costs . the decrease was partially offset by lower logistics costs . the plant nutrition business , on a combined basis , contributed $ 10.8 million to the decrease in gross profit primarily due to lower average sales prices realized in our plant nutrition north america segment , partially offset by the inclusion of the results from produquímica following the acquisition in october 2016. in addition , plant nutrition north america experienced higher per-unit shipping and handling costs . other expenses and income commentary : 2016 – 2017 sg & a : increased $ 42.5 million , which represented a 1.3 percentage points of sales increase to 12.3 % from 11.0 % the increase in sg & a expense was primarily due to the full year inclusion of produquímica in our operating results in 2017 and approximately $ 2 million in higher corporate depreciation related to a significant software system upgrade . in addition , we incurred charges of approximately $ 2 million related to ongoing restructuring activities primarily impacting corporate sg & a . interest expense : increased $ 18.8 million to $ 52.9 million the increase was primarily due to our higher aggregate debt level driven by the acquisition of produquímica , which was partially offset by lower interest rates due to the refinancing of our term loans and revolving credit facility in april 2016. net ( earnings ) loss in equity investee : increased from a loss of $ 1.4 million to earnings of $ 0.8 million the $ 0.8 million of earnings in 2017 represents our share of fermavi eletroquímica ltda . 's ( “ fermavi ” ) net earnings . as a result of the full acquisition of produquímica , we hold a 50 % interest in fermavi , which was previously held by produquímica . the $ 1.4 million loss in 2016 was primarily comprised of our share of produquímica 's net loss based on our initial 35 % equity interest in produquímica prior to the full acquisition . gain from remeasurement of equity method investment we recognized a gain of $ 59.3 million in 2016 related to our previously held equity investment in produquímica , which was remeasured to fair value upon our full acquisition of the business in october 2016. other expense ( income ) , net : increased $ 3.3 million to $ 4.4 million the increase was primarily due to foreign exchange losses of $ 7.1 million in 2017 , compared to losses of $ 0.1 million in 2016. the increase was partially offset by the inclusion of $ 3.0 million of refinancing fees in 2016 and increased interest income in 2017. income tax expense : increased $ 25.4 million to $ 60.0 million income tax expense and our income tax rate increased in 2017 due to the impact of u.s. tax reform , which resulted in an increase in tax expense of $ 46.8 million , and due to a tax settlement agreement . these increases were partially offset by the release of valuation allowances related to our brazil business . our effective tax rate was 58 % in 2017 and 18 % in 2016. our effective tax rates were impacted by u.s. tax reform and a tax settlement agreement in 2017 and the non-taxable gain recognized from the remeasurement of our previously held equity investment in produquímica in 2016. replace_table_token_38_th compass minerals international , inc. our income tax provision in both periods differs from the u.s. statutory rate primarily due to u.s. statutory depletion , domestic manufacturing deductions , state income taxes , foreign income , mining and withholding taxes and interest expense recognition differences for tax and financial reporting purposes . other expenses and income commentary : 2015 – 2016 sg & a : increased $ 16.2 million , which represented a 1.1 percentage points of sales increase to 9.9 % from 11.0 % the increase in expense was due to the inclusion of produquímica 's results and higher expenses in our plant nutrition north america segment due to the $ 3.1 million partial impairment of our wolf trax trade name and corporate restructuring costs . this increase was partially offset by a decrease of $ 2.0 million in corporate professional services and a decrease of $ 1.8 million in marketing expenses in our plant nutrition north america and salt segments . interest expense : increased $ 12.6 million to $ 34.1 million the increase was primarily due to our higher aggregate debt level driven by the acquisition of produquímica , which was partially offset by lower interest rates due to the refinancing of our term loans and revolving credit facility in april 2016. net ( earnings ) loss in equity investee : loss of $ 1.4 million the $ 1.4 million in 2016 was primarily comprised of our share of produquímica 's net loss based on our initial 35 % equity interest in produquímica prior to the full acquisition . story_separator_special_tag net cash flows provided by operating activities were $ 167.3 million . » net earnings were $ 162.7 million which included a non-cash remeasurement gain of $ 59.3 million related to the acquisition of produquímica . » non-cash depreciation and amortization expense was $ 90.3 million . » working capital items were a use of operating cash flows of $ 31.7 million . net cash flows provided by operating activities were $ 137.9 million . » net earnings were $ 159.2 million . » non-cash depreciation and amortization expense was $ 78.3 million . » working capital items were a use of operating cash flows of $ 111.0 million . investing activities : net cash flows used by investing activities were $ 119.0 million . » included $ 114.1 million of capital expenditures . net cash flows used by investing activities were $ 467.8 million . » included $ 182.2 million of capital expenditures and cash payments of $ 4.7 million relating to our previously held equity investment and $ 277.7 million for the full acquisition of produquímica . net cash flows used by investing activities were $ 335.4 million . » included $ 217.6 million of capital expenditures and an equity investment of $ 116.4 million . financing activities : net cash flows used by financing activities were $ 73.4 million . » included net proceeds from issuance of debt of $ 38.7 million , payments of dividends of $ 97.5 million and payments of $ 14.7 million related to contingent consideration from the produquímica acquisition . net cash flows provided by financing activities were $ 314.6 million . » included net proceeds from issuance of debt of $ 416.7 million , payments of dividends of $ 94.1 million and payments of $ 8.5 million related to the refinancing of debt . net cash flows provided by financing activities were $ 14.2 million . » primarily related to new debt used to finance the produquímica investment of $ 100 million , partially offset by the payment of dividends of $ 89.4 million . replace_table_token_46_th compass minerals international , inc. story_separator_special_tag style= `` font-family : inherit ; font-size:8pt ; `` > we lease property and equipment under non-cancelable operating and capital leases for varying periods . ( c ) we have contracts to purchase certain amounts of electricity , equipment and raw materials . in addition , we have minimum throughput commitments in certain depots and warehouses . ( d ) note 8 to our consolidated financial statements provides additional information . ( e ) note 11 to our consolidated financial statements provides additional information . sensitivity analysis related to ebitda and adjusted ebitda management uses a variety of measures to evaluate our performance . while our consolidated financial statements , taken as a whole , provide an understanding of our overall results of operations , financial condition and cash flows , we analyze components of the consolidated financial statements to identify certain trends and evaluate specific performance areas . in addition to using u.s. generally accepted accounting principles ( “ gaap ” ) financial measures , such as gross profit , net earnings and cash flows generated by operating activities , management uses ebitda and adjusted ebitda . both ebitda and adjusted ebitda are non-gaap financial measures used to evaluate the operating performance of our core business operations because our resource allocation , financing methods and cost of capital , and income tax positions are managed at a corporate level , apart from the activities of the operating segments , and the operating facilities are located in different taxing jurisdictions , which can cause considerable variation in net earnings . we also use ebitda and adjusted ebitda to assess our operating performance and return on capital against other companies , and to evaluate potential acquisitions or other capital projects . ebitda and adjusted ebitda are not calculated under u.s. gaap and should not be considered in isolation or as a substitute for net earnings , cash flows or other financial data prepared in accordance with u.s. gaap or as a measure of our overall profitability or liquidity . ebitda and adjusted ebitda exclude interest expense , income taxes and depreciation and amortization , each of which are an essential element of our cost structure and can not be eliminated . furthermore , adjusted ebitda excludes other cash and non-cash items , including restructuring costs , refinancing costs and other ( income ) expense . our borrowings are a significant component of our capital structure and interest expense is a continuing cost of debt . we are also required to pay income taxes , a required and ongoing consequence of our operations . we have a significant investment in capital assets and depreciation and amortization reflect the utilization of those assets in order to generate revenues . consequently , any measure that excludes these elements has material limitations . while ebitda and adjusted ebitda are frequently used as measures of operating performance , these terms are not necessarily comparable to similarly titled measures of other companies due to the potential inconsistencies in the method of calculation . replace_table_token_49_th compass minerals international , inc. the calculation of ebitda and adjusted ebitda as used by management is set forth in the table below ( in millions ) . replace_table_token_50_th in 2017 , we incurred charges of $ 4.3 million related to ongoing restructuring activities . key adjustments in 2016 included a gain of $ 59.3 million related to the remeasurement of our previously held equity investment in produquímica ( see note 3 to our consolidated financial statements ) and $ 8.4 million of costs in connection with the acquisition of produquímica , primarily related to the step-up of finished goods inventory to fair value , which was recorded in product cost as the inventory was sold . in the fourth quarter of 2016 , we also partially wrote-down a trade name acquired in our wolf trax acquisition . ebitda also includes other\\n\""
      ]
     },
     "execution_count": 16,
     "metadata": {},
     "output_type": "execute_result"
    }
   ],
   "source": [
    "train_df.loc[0, \"document\"]"
   ]
  },
  {
   "cell_type": "code",
   "execution_count": 17,
   "id": "62fbab5d",
   "metadata": {},
   "outputs": [
    {
     "data": {
      "text/plain": [
       "'capital resources we believe our primary sources of liquidity will continue to be cash flow from operations and borrowings under our revolving credit facility . we believe that our current banking syndicate is secure and believe we will have access to our entire revolving credit facility . we expect that ongoing requirements for debt service and committed or sustaining capital expenditures will primarily be funded from these sources . our debt service obligations could , under certain circumstances , materially affect our financial condition and prevent us from fulfilling our debt obligations . see item 1a. , “ risk factors – our indebtedness and ability to pay our indebtedness could adversely affect our business and financial condition. ” furthermore , cmi is a holding company with no operations of its own and is dependent on its subsidiaries for cash flow . as discussed in note 9 to our consolidated financial statements , at december 31 , 2017 , we had $ 1.37 billion of outstanding indebtedness consisting of $ 250.0 million under our 4.875 % notes , $ 1.01 billion of borrowings outstanding under our senior secured credit facilities ( consisting of term loans and a revolving credit facility ) , including $ 168.9 million borrowed against our revolving credit facility , and $ 112.9 million of debt related to our produquímica business in brazil . letters of credit totaling $ 8.4 million as of december 31 , 2017 , reduced available borrowing capacity under the revolving credit facility to $ 122.7 million .\\n'"
      ]
     },
     "execution_count": 17,
     "metadata": {},
     "output_type": "execute_result"
    }
   ],
   "source": [
    "train_df.loc[0, \"summary\"]"
   ]
  },
  {
   "cell_type": "code",
   "execution_count": 22,
   "id": "6ceae212",
   "metadata": {},
   "outputs": [
    {
     "name": "stdout",
     "output_type": "stream",
     "text": [
      "(2067, 2)\n"
     ]
    },
    {
     "data": {
      "text/html": [
       "<div>\n",
       "<style scoped>\n",
       "    .dataframe tbody tr th:only-of-type {\n",
       "        vertical-align: middle;\n",
       "    }\n",
       "\n",
       "    .dataframe tbody tr th {\n",
       "        vertical-align: top;\n",
       "    }\n",
       "\n",
       "    .dataframe thead th {\n",
       "        text-align: right;\n",
       "    }\n",
       "</style>\n",
       "<table border=\"1\" class=\"dataframe\">\n",
       "  <thead>\n",
       "    <tr style=\"text-align: right;\">\n",
       "      <th></th>\n",
       "      <th>document</th>\n",
       "      <th>summary</th>\n",
       "    </tr>\n",
       "  </thead>\n",
       "  <tbody>\n",
       "    <tr>\n",
       "      <th>0</th>\n",
       "      <td>million from the issuance of 4,419,641 shares ...</td>\n",
       "      <td>source and uses of cash 65 our primary sources...</td>\n",
       "    </tr>\n",
       "    <tr>\n",
       "      <th>1</th>\n",
       "      <td>we continue to be optimistic about our growth ...</td>\n",
       "      <td>liquidity and capital resources overview our p...</td>\n",
       "    </tr>\n",
       "    <tr>\n",
       "      <th>2</th>\n",
       "      <td>usa today network ventures was designed to cel...</td>\n",
       "      <td>loss on early extinguishment of debt : for the...</td>\n",
       "    </tr>\n",
       "    <tr>\n",
       "      <th>3</th>\n",
       "      <td>· changes in the financial condition , results...</td>\n",
       "      <td>liquidity we are required to have enough cash ...</td>\n",
       "    </tr>\n",
       "    <tr>\n",
       "      <th>4</th>\n",
       "      <td>our customers ' usage of our websites increase...</td>\n",
       "      <td>liquidity our principal internal sources of li...</td>\n",
       "    </tr>\n",
       "  </tbody>\n",
       "</table>\n",
       "</div>"
      ],
      "text/plain": [
       "                                            document  \\\n",
       "0  million from the issuance of 4,419,641 shares ...   \n",
       "1  we continue to be optimistic about our growth ...   \n",
       "2  usa today network ventures was designed to cel...   \n",
       "3  · changes in the financial condition , results...   \n",
       "4  our customers ' usage of our websites increase...   \n",
       "\n",
       "                                             summary  \n",
       "0  source and uses of cash 65 our primary sources...  \n",
       "1  liquidity and capital resources overview our p...  \n",
       "2  loss on early extinguishment of debt : for the...  \n",
       "3  liquidity we are required to have enough cash ...  \n",
       "4  liquidity our principal internal sources of li...  "
      ]
     },
     "execution_count": 22,
     "metadata": {},
     "output_type": "execute_result"
    }
   ],
   "source": [
    "print(test_df.shape)\n",
    "test_df.head()"
   ]
  },
  {
   "cell_type": "code",
   "execution_count": 23,
   "id": "680c1d18",
   "metadata": {},
   "outputs": [
    {
     "name": "stdout",
     "output_type": "stream",
     "text": [
      "(2067, 2)\n"
     ]
    },
    {
     "data": {
      "text/html": [
       "<div>\n",
       "<style scoped>\n",
       "    .dataframe tbody tr th:only-of-type {\n",
       "        vertical-align: middle;\n",
       "    }\n",
       "\n",
       "    .dataframe tbody tr th {\n",
       "        vertical-align: top;\n",
       "    }\n",
       "\n",
       "    .dataframe thead th {\n",
       "        text-align: right;\n",
       "    }\n",
       "</style>\n",
       "<table border=\"1\" class=\"dataframe\">\n",
       "  <thead>\n",
       "    <tr style=\"text-align: right;\">\n",
       "      <th></th>\n",
       "      <th>document</th>\n",
       "      <th>summary</th>\n",
       "    </tr>\n",
       "  </thead>\n",
       "  <tbody>\n",
       "    <tr>\n",
       "      <th>0</th>\n",
       "      <td>the services were initially provided for a fee...</td>\n",
       "      <td>cash flow net cash used in operating activitie...</td>\n",
       "    </tr>\n",
       "    <tr>\n",
       "      <th>1</th>\n",
       "      <td>the pandemic has created challenges for conduc...</td>\n",
       "      <td>cash flows the following table summarizes the ...</td>\n",
       "    </tr>\n",
       "    <tr>\n",
       "      <th>2</th>\n",
       "      <td>when comparing fiscal 2014 to fiscal 2013 , th...</td>\n",
       "      <td>debt transactions on december 23 , 2014 , the ...</td>\n",
       "    </tr>\n",
       "    <tr>\n",
       "      <th>3</th>\n",
       "      <td>a managed reit 's average total market capital...</td>\n",
       "      <td>cash flows fiscal year ended september 30 , 20...</td>\n",
       "    </tr>\n",
       "    <tr>\n",
       "      <th>4</th>\n",
       "      <td>the tactical communications products business ...</td>\n",
       "      <td>cash flows and general business matters the fo...</td>\n",
       "    </tr>\n",
       "  </tbody>\n",
       "</table>\n",
       "</div>"
      ],
      "text/plain": [
       "                                            document  \\\n",
       "0  the services were initially provided for a fee...   \n",
       "1  the pandemic has created challenges for conduc...   \n",
       "2  when comparing fiscal 2014 to fiscal 2013 , th...   \n",
       "3  a managed reit 's average total market capital...   \n",
       "4  the tactical communications products business ...   \n",
       "\n",
       "                                             summary  \n",
       "0  cash flow net cash used in operating activitie...  \n",
       "1  cash flows the following table summarizes the ...  \n",
       "2  debt transactions on december 23 , 2014 , the ...  \n",
       "3  cash flows fiscal year ended september 30 , 20...  \n",
       "4  cash flows and general business matters the fo...  "
      ]
     },
     "execution_count": 23,
     "metadata": {},
     "output_type": "execute_result"
    }
   ],
   "source": [
    "print(val_df.shape)\n",
    "val_df.head()"
   ]
  },
  {
   "cell_type": "code",
   "execution_count": 27,
   "id": "d2c379c2",
   "metadata": {},
   "outputs": [],
   "source": [
    "# split dataset\n",
    "from sklearn.model_selection import train_test_split\n",
    "\n",
    "# Assume your dataframe is stored in a variable called `df`\n",
    "train_data, test_data = train_test_split(val_df, test_size=0.2, random_state=42)\n",
    "train_data, val_data = train_test_split(train_data, test_size=0.2, random_state=42)"
   ]
  },
  {
   "cell_type": "code",
   "execution_count": 28,
   "id": "5e8f6157",
   "metadata": {},
   "outputs": [
    {
     "data": {
      "text/plain": [
       "((1322, 2), (414, 2), (331, 2))"
      ]
     },
     "execution_count": 28,
     "metadata": {},
     "output_type": "execute_result"
    }
   ],
   "source": [
    "train_data.shape, test_data.shape, val_data.shape"
   ]
  },
  {
   "cell_type": "code",
   "execution_count": null,
   "id": "47f1149b",
   "metadata": {},
   "outputs": [],
   "source": [
    "train_data.to_csv('sample_findsum_train.csv', index=False)\n",
    "train_data.to_csv('sample_findsum_test.csv', index=False)\n",
    "train_data.to_csv('sample_findsum_val.csv', index=False)"
   ]
  }
 ],
 "metadata": {
  "kernelspec": {
   "display_name": "Python 3 (ipykernel)",
   "language": "python",
   "name": "python3"
  },
  "language_info": {
   "codemirror_mode": {
    "name": "ipython",
    "version": 3
   },
   "file_extension": ".py",
   "mimetype": "text/x-python",
   "name": "python",
   "nbconvert_exporter": "python",
   "pygments_lexer": "ipython3",
   "version": "3.9.16"
  }
 },
 "nbformat": 4,
 "nbformat_minor": 5
}
