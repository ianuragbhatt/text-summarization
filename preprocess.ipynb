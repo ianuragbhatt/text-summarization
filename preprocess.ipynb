{
 "cells": [
  {
   "cell_type": "code",
   "execution_count": 1,
   "id": "ffb69f00",
   "metadata": {},
   "outputs": [],
   "source": [
    "import pandas as pd"
   ]
  },
  {
   "cell_type": "code",
   "execution_count": 2,
   "id": "8cfa144e",
   "metadata": {},
   "outputs": [],
   "source": [
    "data_path = 'assets/datasets/findsum/text-20230510T070655Z-001/text/FINDSum-Liquidity/liquidity_input_2000/'\n",
    "\n",
    "train_path = 'train_liquidity_segment_0_input_2_1000.csv'\n",
    "test_path = 'test_liquidity_segment_0_input_2_1000.csv'\n",
    "val_path = 'val_liquidity_segment_0_input_2_1000.csv'"
   ]
  },
  {
   "cell_type": "code",
   "execution_count": 3,
   "id": "785b05b0",
   "metadata": {},
   "outputs": [],
   "source": [
    "train_df = pd.read_csv(data_path+train_path)\n",
    "test_df = pd.read_csv(data_path + test_path)\n",
    "val_df = pd.read_csv(data_path + val_path)"
   ]
  },
  {
   "cell_type": "code",
   "execution_count": 4,
   "id": "411c40ae",
   "metadata": {},
   "outputs": [
    {
     "data": {
      "text/html": [
       "<div>\n",
       "<style scoped>\n",
       "    .dataframe tbody tr th:only-of-type {\n",
       "        vertical-align: middle;\n",
       "    }\n",
       "\n",
       "    .dataframe tbody tr th {\n",
       "        vertical-align: top;\n",
       "    }\n",
       "\n",
       "    .dataframe thead th {\n",
       "        text-align: right;\n",
       "    }\n",
       "</style>\n",
       "<table border=\"1\" class=\"dataframe\">\n",
       "  <thead>\n",
       "    <tr style=\"text-align: right;\">\n",
       "      <th></th>\n",
       "      <th>document</th>\n",
       "      <th>summary</th>\n",
       "    </tr>\n",
       "  </thead>\n",
       "  <tbody>\n",
       "    <tr>\n",
       "      <th>0</th>\n",
       "      <td>gross profit for plant nutrition north america...</td>\n",
       "      <td>capital resources we believe our primary sourc...</td>\n",
       "    </tr>\n",
       "    <tr>\n",
       "      <th>1</th>\n",
       "      <td>the european commission , or ec , has granted ...</td>\n",
       "      <td>liquidity and capital resources from our incep...</td>\n",
       "    </tr>\n",
       "    <tr>\n",
       "      <th>2</th>\n",
       "      <td>in 2012 the fulfill program generated $ 1.4 mi...</td>\n",
       "      <td>liquidity and capital resources cash flows pro...</td>\n",
       "    </tr>\n",
       "    <tr>\n",
       "      <th>3</th>\n",
       "      <td>combined sales to academic and governmental cu...</td>\n",
       "      <td>cash flow from operating activities net cash p...</td>\n",
       "    </tr>\n",
       "    <tr>\n",
       "      <th>4</th>\n",
       "      <td>the timing and amount of these investments var...</td>\n",
       "      <td>cash flows the following table sets forth data...</td>\n",
       "    </tr>\n",
       "  </tbody>\n",
       "</table>\n",
       "</div>"
      ],
      "text/plain": [
       "                                            document   \n",
       "0  gross profit for plant nutrition north america...  \\\n",
       "1  the european commission , or ec , has granted ...   \n",
       "2  in 2012 the fulfill program generated $ 1.4 mi...   \n",
       "3  combined sales to academic and governmental cu...   \n",
       "4  the timing and amount of these investments var...   \n",
       "\n",
       "                                             summary  \n",
       "0  capital resources we believe our primary sourc...  \n",
       "1  liquidity and capital resources from our incep...  \n",
       "2  liquidity and capital resources cash flows pro...  \n",
       "3  cash flow from operating activities net cash p...  \n",
       "4  cash flows the following table sets forth data...  "
      ]
     },
     "execution_count": 4,
     "metadata": {},
     "output_type": "execute_result"
    }
   ],
   "source": [
    "train_df.head()"
   ]
  },
  {
   "cell_type": "code",
   "execution_count": 5,
   "id": "b1992076",
   "metadata": {},
   "outputs": [
    {
     "data": {
      "text/plain": [
       "((16538, 2), (2067, 2), (2067, 2))"
      ]
     },
     "execution_count": 5,
     "metadata": {},
     "output_type": "execute_result"
    }
   ],
   "source": [
    "train_df.shape, test_df.shape, val_df.shape"
   ]
  },
  {
   "cell_type": "code",
   "execution_count": 6,
   "id": "d2c379c2",
   "metadata": {},
   "outputs": [],
   "source": [
    "# # split dataset\n",
    "# from sklearn.model_selection import train_test_split\n",
    "\n",
    "# # Assume your dataframe is stored in a variable called `df`\n",
    "# train_data, test_data = train_test_split(train, test_size=0.2, random_state=42)\n",
    "# train_data, val_data = train_test_split(train_data, test_size=0.2, random_state=42)"
   ]
  },
  {
   "cell_type": "code",
   "execution_count": 7,
   "id": "4bef17c4",
   "metadata": {},
   "outputs": [],
   "source": [
    "sample_train = train_df.iloc[:2500]\n",
    "sample_test = test_df.iloc[:200]\n",
    "sample_val = val_df.iloc[:200]"
   ]
  },
  {
   "cell_type": "code",
   "execution_count": 8,
   "id": "5e8f6157",
   "metadata": {},
   "outputs": [
    {
     "data": {
      "text/plain": [
       "((2500, 2), (200, 2), (200, 2))"
      ]
     },
     "execution_count": 8,
     "metadata": {},
     "output_type": "execute_result"
    }
   ],
   "source": [
    "sample_train.shape, sample_test.shape, sample_val.shape"
   ]
  },
  {
   "cell_type": "code",
   "execution_count": 9,
   "id": "0c4d4b1b",
   "metadata": {},
   "outputs": [
    {
     "data": {
      "text/html": [
       "<div>\n",
       "<style scoped>\n",
       "    .dataframe tbody tr th:only-of-type {\n",
       "        vertical-align: middle;\n",
       "    }\n",
       "\n",
       "    .dataframe tbody tr th {\n",
       "        vertical-align: top;\n",
       "    }\n",
       "\n",
       "    .dataframe thead th {\n",
       "        text-align: right;\n",
       "    }\n",
       "</style>\n",
       "<table border=\"1\" class=\"dataframe\">\n",
       "  <thead>\n",
       "    <tr style=\"text-align: right;\">\n",
       "      <th></th>\n",
       "      <th>document</th>\n",
       "      <th>summary</th>\n",
       "    </tr>\n",
       "  </thead>\n",
       "  <tbody>\n",
       "    <tr>\n",
       "      <th>0</th>\n",
       "      <td>gross profit for plant nutrition north america...</td>\n",
       "      <td>capital resources we believe our primary sourc...</td>\n",
       "    </tr>\n",
       "    <tr>\n",
       "      <th>1</th>\n",
       "      <td>the european commission , or ec , has granted ...</td>\n",
       "      <td>liquidity and capital resources from our incep...</td>\n",
       "    </tr>\n",
       "    <tr>\n",
       "      <th>2</th>\n",
       "      <td>in 2012 the fulfill program generated $ 1.4 mi...</td>\n",
       "      <td>liquidity and capital resources cash flows pro...</td>\n",
       "    </tr>\n",
       "    <tr>\n",
       "      <th>3</th>\n",
       "      <td>combined sales to academic and governmental cu...</td>\n",
       "      <td>cash flow from operating activities net cash p...</td>\n",
       "    </tr>\n",
       "    <tr>\n",
       "      <th>4</th>\n",
       "      <td>the timing and amount of these investments var...</td>\n",
       "      <td>cash flows the following table sets forth data...</td>\n",
       "    </tr>\n",
       "  </tbody>\n",
       "</table>\n",
       "</div>"
      ],
      "text/plain": [
       "                                            document   \n",
       "0  gross profit for plant nutrition north america...  \\\n",
       "1  the european commission , or ec , has granted ...   \n",
       "2  in 2012 the fulfill program generated $ 1.4 mi...   \n",
       "3  combined sales to academic and governmental cu...   \n",
       "4  the timing and amount of these investments var...   \n",
       "\n",
       "                                             summary  \n",
       "0  capital resources we believe our primary sourc...  \n",
       "1  liquidity and capital resources from our incep...  \n",
       "2  liquidity and capital resources cash flows pro...  \n",
       "3  cash flow from operating activities net cash p...  \n",
       "4  cash flows the following table sets forth data...  "
      ]
     },
     "execution_count": 9,
     "metadata": {},
     "output_type": "execute_result"
    }
   ],
   "source": [
    "sample_train.head()"
   ]
  },
  {
   "cell_type": "code",
   "execution_count": 10,
   "id": "07e3746f",
   "metadata": {},
   "outputs": [
    {
     "data": {
      "text/html": [
       "<div>\n",
       "<style scoped>\n",
       "    .dataframe tbody tr th:only-of-type {\n",
       "        vertical-align: middle;\n",
       "    }\n",
       "\n",
       "    .dataframe tbody tr th {\n",
       "        vertical-align: top;\n",
       "    }\n",
       "\n",
       "    .dataframe thead th {\n",
       "        text-align: right;\n",
       "    }\n",
       "</style>\n",
       "<table border=\"1\" class=\"dataframe\">\n",
       "  <thead>\n",
       "    <tr style=\"text-align: right;\">\n",
       "      <th></th>\n",
       "      <th>document</th>\n",
       "      <th>summary</th>\n",
       "    </tr>\n",
       "  </thead>\n",
       "  <tbody>\n",
       "    <tr>\n",
       "      <th>0</th>\n",
       "      <td>million from the issuance of 4,419,641 shares ...</td>\n",
       "      <td>source and uses of cash 65 our primary sources...</td>\n",
       "    </tr>\n",
       "    <tr>\n",
       "      <th>1</th>\n",
       "      <td>we continue to be optimistic about our growth ...</td>\n",
       "      <td>liquidity and capital resources overview our p...</td>\n",
       "    </tr>\n",
       "    <tr>\n",
       "      <th>2</th>\n",
       "      <td>usa today network ventures was designed to cel...</td>\n",
       "      <td>loss on early extinguishment of debt : for the...</td>\n",
       "    </tr>\n",
       "    <tr>\n",
       "      <th>3</th>\n",
       "      <td>· changes in the financial condition , results...</td>\n",
       "      <td>liquidity we are required to have enough cash ...</td>\n",
       "    </tr>\n",
       "    <tr>\n",
       "      <th>4</th>\n",
       "      <td>our customers ' usage of our websites increase...</td>\n",
       "      <td>liquidity our principal internal sources of li...</td>\n",
       "    </tr>\n",
       "  </tbody>\n",
       "</table>\n",
       "</div>"
      ],
      "text/plain": [
       "                                            document   \n",
       "0  million from the issuance of 4,419,641 shares ...  \\\n",
       "1  we continue to be optimistic about our growth ...   \n",
       "2  usa today network ventures was designed to cel...   \n",
       "3  · changes in the financial condition , results...   \n",
       "4  our customers ' usage of our websites increase...   \n",
       "\n",
       "                                             summary  \n",
       "0  source and uses of cash 65 our primary sources...  \n",
       "1  liquidity and capital resources overview our p...  \n",
       "2  loss on early extinguishment of debt : for the...  \n",
       "3  liquidity we are required to have enough cash ...  \n",
       "4  liquidity our principal internal sources of li...  "
      ]
     },
     "execution_count": 10,
     "metadata": {},
     "output_type": "execute_result"
    }
   ],
   "source": [
    "sample_test.head()"
   ]
  },
  {
   "cell_type": "code",
   "execution_count": 11,
   "id": "173cb033",
   "metadata": {},
   "outputs": [
    {
     "data": {
      "text/html": [
       "<div>\n",
       "<style scoped>\n",
       "    .dataframe tbody tr th:only-of-type {\n",
       "        vertical-align: middle;\n",
       "    }\n",
       "\n",
       "    .dataframe tbody tr th {\n",
       "        vertical-align: top;\n",
       "    }\n",
       "\n",
       "    .dataframe thead th {\n",
       "        text-align: right;\n",
       "    }\n",
       "</style>\n",
       "<table border=\"1\" class=\"dataframe\">\n",
       "  <thead>\n",
       "    <tr style=\"text-align: right;\">\n",
       "      <th></th>\n",
       "      <th>document</th>\n",
       "      <th>summary</th>\n",
       "    </tr>\n",
       "  </thead>\n",
       "  <tbody>\n",
       "    <tr>\n",
       "      <th>0</th>\n",
       "      <td>the services were initially provided for a fee...</td>\n",
       "      <td>cash flow net cash used in operating activitie...</td>\n",
       "    </tr>\n",
       "    <tr>\n",
       "      <th>1</th>\n",
       "      <td>the pandemic has created challenges for conduc...</td>\n",
       "      <td>cash flows the following table summarizes the ...</td>\n",
       "    </tr>\n",
       "    <tr>\n",
       "      <th>2</th>\n",
       "      <td>when comparing fiscal 2014 to fiscal 2013 , th...</td>\n",
       "      <td>debt transactions on december 23 , 2014 , the ...</td>\n",
       "    </tr>\n",
       "    <tr>\n",
       "      <th>3</th>\n",
       "      <td>a managed reit 's average total market capital...</td>\n",
       "      <td>cash flows fiscal year ended september 30 , 20...</td>\n",
       "    </tr>\n",
       "    <tr>\n",
       "      <th>4</th>\n",
       "      <td>the tactical communications products business ...</td>\n",
       "      <td>cash flows and general business matters the fo...</td>\n",
       "    </tr>\n",
       "  </tbody>\n",
       "</table>\n",
       "</div>"
      ],
      "text/plain": [
       "                                            document   \n",
       "0  the services were initially provided for a fee...  \\\n",
       "1  the pandemic has created challenges for conduc...   \n",
       "2  when comparing fiscal 2014 to fiscal 2013 , th...   \n",
       "3  a managed reit 's average total market capital...   \n",
       "4  the tactical communications products business ...   \n",
       "\n",
       "                                             summary  \n",
       "0  cash flow net cash used in operating activitie...  \n",
       "1  cash flows the following table summarizes the ...  \n",
       "2  debt transactions on december 23 , 2014 , the ...  \n",
       "3  cash flows fiscal year ended september 30 , 20...  \n",
       "4  cash flows and general business matters the fo...  "
      ]
     },
     "execution_count": 11,
     "metadata": {},
     "output_type": "execute_result"
    }
   ],
   "source": [
    "sample_val.head()"
   ]
  },
  {
   "cell_type": "code",
   "execution_count": 24,
   "id": "47f1149b",
   "metadata": {},
   "outputs": [],
   "source": [
    "sample_train.to_csv('assets/datasets/sample_findsum/sample_findsum_train.csv', index=False)\n",
    "sample_test.to_csv('assets/datasets/sample_findsum/sample_findsum_test.csv', index=False)\n",
    "sample_val.to_csv('assets/datasets/sample_findsum/sample_findsum_val.csv', index=False)"
   ]
  },
  {
   "cell_type": "code",
   "execution_count": null,
   "id": "a11d85e2",
   "metadata": {},
   "outputs": [],
   "source": []
  }
 ],
 "metadata": {
  "kernelspec": {
   "display_name": "Python 3 (ipykernel)",
   "language": "python",
   "name": "python3"
  },
  "language_info": {
   "codemirror_mode": {
    "name": "ipython",
    "version": 3
   },
   "file_extension": ".py",
   "mimetype": "text/x-python",
   "name": "python",
   "nbconvert_exporter": "python",
   "pygments_lexer": "ipython3",
   "version": "3.9.0"
  }
 },
 "nbformat": 4,
 "nbformat_minor": 5
}
